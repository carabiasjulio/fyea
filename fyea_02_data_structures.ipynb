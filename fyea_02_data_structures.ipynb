{
  "nbformat": 4,
  "nbformat_minor": 0,
  "metadata": {
    "colab": {
      "provenance": [],
      "authorship_tag": "ABX9TyMtsG6lI+4t1ZnFzPNZmGUN",
      "include_colab_link": true
    },
    "kernelspec": {
      "name": "python3",
      "display_name": "Python 3"
    },
    "language_info": {
      "name": "python"
    }
  },
  "cells": [
    {
      "cell_type": "markdown",
      "metadata": {
        "id": "view-in-github",
        "colab_type": "text"
      },
      "source": [
        "<a href=\"https://colab.research.google.com/github/carabiasjulio/fyea/blob/main/fyea_02_data_structure.ipynb\" target=\"_parent\"><img src=\"https://colab.research.google.com/assets/colab-badge.svg\" alt=\"Open In Colab\"/></a>"
      ]
    },
    {
      "cell_type": "markdown",
      "source": [
        "#**Estructuras de datos básicas**\n",
        "\n",
        "Hasta ahora, hemos pensado un poco en hacer cálculos. Cambiemos de tema y veamos cómo representar los datos.\n",
        "\n",
        "Por ejemplo, digamos que quiero hacer un seguimiento de todos mis amigos y sus cumpleaños. ¿Cómo podría hacerlo para poder trabajar con ello en Python?\n",
        "\n",
        "O tal vez, estoy escribiendo un servidor de juegos donde todo el mundo tiene un nombre de usuario único y una cuenta asociada a él. ¿Cómo podría buscar eficientemente una cuenta a partir del nombre de usuario?\n",
        "\n",
        "Por último, ¿qué pasaría si quisiera encontrar rápidamente todos los números únicos que aparecen en una lista? ¿Hay alguna forma de hacerlo?\n",
        "\n",
        "Veremos que cada uno de estos problemas puede resolverse de forma eficiente utilizando algunas estructuras de datos fundamentales: listas, diccionarios y conjuntos.\n",
        "\n",
        "#**Listas**\n",
        "Las listas son, quizá, la estructura de datos fundamental. Son... bueno... listas. La mayoría de las veces, cuando tratamos con datos, no tenemos un solo elemento o un par de ellos, sino muchos. Las listas nos ayudan a organizarlos en una colección coherente y ordenada. Por ejemplo:"
      ],
      "metadata": {
        "id": "UGS2cd30fDdx"
      }
    },
    {
      "cell_type": "code",
      "execution_count": 2,
      "metadata": {
        "colab": {
          "base_uri": "https://localhost:8080/"
        },
        "id": "YSUDJdWqe8n_",
        "outputId": "c188816e-b6f4-465a-9f4e-d2a01cc83c0a"
      },
      "outputs": [
        {
          "output_type": "stream",
          "name": "stdout",
          "text": [
            "[1, 4, 2, 3, 9]\n"
          ]
        }
      ],
      "source": [
        "numbers = [1, 4, 2, 3, 9]\n",
        "print(numbers)"
      ]
    },
    {
      "cell_type": "markdown",
      "source": [
        "Supongamos que quiero acceder a posiciones concretas de la lista. ¿Cómo puedo hacerlo?"
      ],
      "metadata": {
        "id": "NRkBPNtyfZkb"
      }
    },
    {
      "cell_type": "code",
      "source": [
        "print(numbers[0])\n",
        "print(numbers[1])\n",
        "print(numbers[-1])"
      ],
      "metadata": {
        "id": "AvmO1G-3fUIp"
      },
      "execution_count": null,
      "outputs": []
    },
    {
      "cell_type": "markdown",
      "source": [
        "También puedo tomar «rebanadas» enteras de la lista. Tenga en cuenta que, al igual que el rango, el corte sigue la convención del intervalo semiabierto [,)."
      ],
      "metadata": {
        "id": "V8hVx1umfo8E"
      }
    },
    {
      "cell_type": "code",
      "source": [
        "print(numbers[1:4])\n",
        "print(numbers[2:5])\n",
        "print(numbers[1:])\n",
        "print(numbers[:-3])"
      ],
      "metadata": {
        "colab": {
          "base_uri": "https://localhost:8080/"
        },
        "id": "FtUH0b5Nfqsm",
        "outputId": "1f18eb7f-cf7a-4ed2-ecbf-1fb3eea88709"
      },
      "execution_count": 3,
      "outputs": [
        {
          "output_type": "stream",
          "name": "stdout",
          "text": [
            "[4, 2, 3]\n",
            "[2, 3, 9]\n",
            "[4, 2, 3, 9]\n",
            "[1, 4]\n"
          ]
        }
      ]
    },
    {
      "cell_type": "markdown",
      "source": [
        "Puedo incluso introducir saltos entre los elementos de la lista."
      ],
      "metadata": {
        "id": "4Gg92mhXf3Ei"
      }
    },
    {
      "cell_type": "code",
      "source": [
        "print(numbers[::2])\n",
        "print(numbers[1::3])\n",
        "print(numbers[1:3:2])"
      ],
      "metadata": {
        "colab": {
          "base_uri": "https://localhost:8080/"
        },
        "id": "E2aR6yVCf0Sj",
        "outputId": "e2027bce-fe86-40c8-beaa-5b3c2bea9d82"
      },
      "execution_count": 4,
      "outputs": [
        {
          "output_type": "stream",
          "name": "stdout",
          "text": [
            "[1, 2, 9]\n",
            "[4, 9]\n",
            "[4]\n"
          ]
        }
      ]
    },
    {
      "cell_type": "markdown",
      "source": [
        "Eso está muy bien, pero queremos hacer algo más que ver una lista. Queremos poder modificarlas. Por ejemplo, hacemos un nuevo amigo y queremos añadirlo a nuestra lista de cumpleaños."
      ],
      "metadata": {
        "id": "qZveJLJBgPdw"
      }
    },
    {
      "cell_type": "code",
      "source": [
        "numbers = [1, 4, 2, 3, 9]\n",
        "numbers.append(10)\n",
        "print(numbers)"
      ],
      "metadata": {
        "colab": {
          "base_uri": "https://localhost:8080/"
        },
        "id": "Cdk0DEdff-45",
        "outputId": "730cd584-9b22-46f3-f46b-307b941c3278"
      },
      "execution_count": 5,
      "outputs": [
        {
          "output_type": "stream",
          "name": "stdout",
          "text": [
            "[1, 4, 2, 3, 9, 10]\n"
          ]
        }
      ]
    },
    {
      "cell_type": "code",
      "source": [
        "numbers = [1, 4, 2, 3, 9]\n",
        "numbers.insert(0, 10)\n",
        "print(numbers)"
      ],
      "metadata": {
        "colab": {
          "base_uri": "https://localhost:8080/"
        },
        "id": "4JyBJrqqgTW1",
        "outputId": "0016bb08-5f25-4287-e7dd-8d4e2503c1ca"
      },
      "execution_count": 6,
      "outputs": [
        {
          "output_type": "stream",
          "name": "stdout",
          "text": [
            "[10, 1, 4, 2, 3, 9]\n"
          ]
        }
      ]
    },
    {
      "cell_type": "code",
      "source": [
        "numbers = [1, 4, 2, 3, 9]\n",
        "numbers.insert(2, 10)\n",
        "print(numbers)"
      ],
      "metadata": {
        "colab": {
          "base_uri": "https://localhost:8080/"
        },
        "id": "rth-opmcgWzJ",
        "outputId": "adc21a3d-efbc-46dd-e185-0f0d938d01c2"
      },
      "execution_count": 7,
      "outputs": [
        {
          "output_type": "stream",
          "name": "stdout",
          "text": [
            "[1, 4, 10, 2, 3, 9]\n"
          ]
        }
      ]
    },
    {
      "cell_type": "markdown",
      "source": [
        "También puedo eliminar elementos de una lista."
      ],
      "metadata": {
        "id": "HgiNdG01gbd7"
      }
    },
    {
      "cell_type": "code",
      "source": [
        "people = [\"Hip\", \"Cindy\", \"Ken\", \"Bruce Wayne\", \"Judge Judy\"]\n",
        "print(people.pop(0))\n",
        "print(people)"
      ],
      "metadata": {
        "colab": {
          "base_uri": "https://localhost:8080/"
        },
        "id": "tD2avkKKgZsN",
        "outputId": "dfe529a9-3936-4dfa-b7a3-653625789649"
      },
      "execution_count": 8,
      "outputs": [
        {
          "output_type": "stream",
          "name": "stdout",
          "text": [
            "Hip\n",
            "['Cindy', 'Ken', 'Bruce Wayne', 'Judge Judy']\n"
          ]
        }
      ]
    },
    {
      "cell_type": "code",
      "source": [
        "people = [\"Hip\", \"Cindy\", \"Ken\", \"Bruce Wayne\", \"Judge Judy\"]\n",
        "print(people.pop(-1)) # note: same as just people.pop()\n",
        "print(people)"
      ],
      "metadata": {
        "colab": {
          "base_uri": "https://localhost:8080/"
        },
        "id": "y8fkrKrwghID",
        "outputId": "7ae380c5-98e4-4abc-f551-2f89dd919bc3"
      },
      "execution_count": 9,
      "outputs": [
        {
          "output_type": "stream",
          "name": "stdout",
          "text": [
            "Judge Judy\n",
            "['Hip', 'Cindy', 'Ken', 'Bruce Wayne']\n"
          ]
        }
      ]
    },
    {
      "cell_type": "markdown",
      "source": [
        "También puedo unir dos listas existentes para formar una nueva lista «sumándolas» o concatenándolas."
      ],
      "metadata": {
        "id": "9P1i6db-gmay"
      }
    },
    {
      "cell_type": "code",
      "source": [
        "items1 = [1, 2, 3, 4, 5]\n",
        "items2 = ['A', 'B', 'C']\n",
        "print(items1 + items2)\n",
        "print(items2 + items1)"
      ],
      "metadata": {
        "colab": {
          "base_uri": "https://localhost:8080/"
        },
        "id": "2aSf1ZHhgnKC",
        "outputId": "3927ba26-1b80-4e07-d290-b756ecc36a56"
      },
      "execution_count": 10,
      "outputs": [
        {
          "output_type": "stream",
          "name": "stdout",
          "text": [
            "[1, 2, 3, 4, 5, 'A', 'B', 'C']\n",
            "['A', 'B', 'C', 1, 2, 3, 4, 5]\n"
          ]
        }
      ]
    },
    {
      "cell_type": "markdown",
      "source": [
        "Incluso podemos tener casos más interesantes. Por ejemplo, podemos representar un simple «árbol» como una lista con otras listas dentro."
      ],
      "metadata": {
        "id": "Sio3TgD_gu0Q"
      }
    },
    {
      "cell_type": "code",
      "source": [
        "data = [\"house key\", 7, 3.1, [3, 4, 1], [\"lighter\", [1, True], \"pocket knife\"]]\n",
        "print(data)"
      ],
      "metadata": {
        "colab": {
          "base_uri": "https://localhost:8080/"
        },
        "id": "xoP1VhPygvXI",
        "outputId": "eb5bf263-27a9-43f2-a1d8-b1111031e436"
      },
      "execution_count": 11,
      "outputs": [
        {
          "output_type": "stream",
          "name": "stdout",
          "text": [
            "['house key', 7, 3.1, [3, 4, 1], ['lighter', [1, True], 'pocket knife']]\n"
          ]
        }
      ]
    },
    {
      "cell_type": "markdown",
      "source": [
        "Por último, podemos iterar los elementos de una lista de forma similar a como iteramos un rango de números. Recordemos que teníamos:"
      ],
      "metadata": {
        "id": "gN5oBIUVg5kD"
      }
    },
    {
      "cell_type": "code",
      "source": [
        "things = [4, 1, 2, 9, 2, 'a', 2, 'thing', 4, 3.2]\n",
        "\n",
        "for x in things:\n",
        "    print(x)"
      ],
      "metadata": {
        "colab": {
          "base_uri": "https://localhost:8080/"
        },
        "id": "ab1Grnn-g6Go",
        "outputId": "77a7356c-9a0d-4d91-d3b7-3e92a3036c2e"
      },
      "execution_count": 13,
      "outputs": [
        {
          "output_type": "stream",
          "name": "stdout",
          "text": [
            "4\n",
            "1\n",
            "2\n",
            "9\n",
            "2\n",
            "a\n",
            "2\n",
            "thing\n",
            "4\n",
            "3.2\n"
          ]
        }
      ]
    },
    {
      "cell_type": "markdown",
      "source": [
        "#**Ejercicio 1**\n",
        "\n",
        "1.  Crea una función que tome una lista de enteros e imprima si la entrada es positiva, negativa o cero.\n",
        "2.  Modifica esta función para que en lugar de imprimir «positivo», «negativo» o «cero», devuelva la lista de cadenas correspondientes. (¿Puedes hacer esto más general? En lugar de llevar un número a la cadena «positivo», «negativo» o «cero», ¿qué pasa si quiero los cuadrados de los números? ¿O que cada número se incremente en uno? ¿Cómo lo permitiría?)\n",
        "3.  Escribe una función que tome una lista de números y devuelva la suma de los cubos de todos los elementos.\n",
        "4.  Escribe una función que encuentre el elemento mayor de una lista de números.\n",
        "5.  Escribe una función que devuelva una lista pero en orden inverso."
      ],
      "metadata": {
        "id": "exu4Q2KnhCz-"
      }
    },
    {
      "cell_type": "code",
      "source": [
        "# Inserta tu código aquí"
      ],
      "metadata": {
        "id": "jlidk1JOg8uV"
      },
      "execution_count": null,
      "outputs": []
    },
    {
      "cell_type": "markdown",
      "source": [
        "#**Operaciones comunes con listas**\n",
        "\n",
        "Ahora que hemos implementado un par de este tipo de cosas, resulta que Python tiene algunas funcionalidades incorporadas que ya hacen esto por nosotros. Por ejemplo, si queremos encontrar el elemento más grande de una lista, podemos usar:"
      ],
      "metadata": {
        "id": "LVYepliohTTb"
      }
    },
    {
      "cell_type": "code",
      "source": [
        "numbers = [2, 4, -1, 9, 10, 3, 20, 6, 2, 9, 9, 2, 3]\n",
        "print(max(numbers))"
      ],
      "metadata": {
        "colab": {
          "base_uri": "https://localhost:8080/"
        },
        "id": "-TXBtBOHhbNW",
        "outputId": "b1240ab0-4c9f-41b2-eac2-eea120d99d6a"
      },
      "execution_count": 15,
      "outputs": [
        {
          "output_type": "stream",
          "name": "stdout",
          "text": [
            "20\n"
          ]
        }
      ]
    },
    {
      "cell_type": "markdown",
      "source": [
        "Del mismo modo, si queremos añadir los elementos, sólo tenemos que utilizar:"
      ],
      "metadata": {
        "id": "zWToJP2ohfwX"
      }
    },
    {
      "cell_type": "code",
      "source": [
        "print(sum(numbers))"
      ],
      "metadata": {
        "colab": {
          "base_uri": "https://localhost:8080/"
        },
        "id": "bny1hYzPhdbv",
        "outputId": "b6d8093a-be26-4c4e-b66f-d2be0589ca09"
      },
      "execution_count": 17,
      "outputs": [
        {
          "output_type": "stream",
          "name": "stdout",
          "text": [
            "78\n"
          ]
        }
      ]
    },
    {
      "cell_type": "markdown",
      "source": [
        "Una última operación muy útil y habitual es poder ordenar una lista de elementos:"
      ],
      "metadata": {
        "id": "lHSJdvqOhl4_"
      }
    },
    {
      "cell_type": "code",
      "source": [
        "numbers = [2, 4, -1, 9, 10, 3, 20, 6, 2, 9, 9, 2, 3]\n",
        "print(sorted(numbers))"
      ],
      "metadata": {
        "colab": {
          "base_uri": "https://localhost:8080/"
        },
        "id": "8qJKDiIzhjaO",
        "outputId": "697f84d1-24de-47c0-d55e-0adb258760bd"
      },
      "execution_count": 18,
      "outputs": [
        {
          "output_type": "stream",
          "name": "stdout",
          "text": [
            "[-1, 2, 2, 2, 3, 3, 4, 6, 9, 9, 9, 10, 20]\n"
          ]
        }
      ]
    },
    {
      "cell_type": "markdown",
      "source": [
        "Algunas de estas funciones resultan muy útiles cuando se combinan con el concepto de generador. Aunque no vamos a profundizar en ellas, resultan útiles para realizar pequeñas construcciones o cálculos de forma muy compacta. Por ejemplo, puedo construir una lista de cuadrados utilizando la notación «generador de listas»:"
      ],
      "metadata": {
        "id": "NLeTBohrhsmd"
      }
    },
    {
      "cell_type": "code",
      "source": [
        "[n**2 for n in range(1, 10)]"
      ],
      "metadata": {
        "colab": {
          "base_uri": "https://localhost:8080/"
        },
        "id": "D60S8pmchpo2",
        "outputId": "da7634b5-5af9-42f3-a599-1f7f7caadbcd"
      },
      "execution_count": 19,
      "outputs": [
        {
          "output_type": "execute_result",
          "data": {
            "text/plain": [
              "[1, 4, 9, 16, 25, 36, 49, 64, 81]"
            ]
          },
          "metadata": {},
          "execution_count": 19
        }
      ]
    },
    {
      "cell_type": "markdown",
      "source": [
        "También puedes utilizar funciones como min o sum a través de un generador. Por ejemplo, puede reimplementar la función de suma de cubos utilizando la notación del generador:"
      ],
      "metadata": {
        "id": "OTrKwx_Uhxup"
      }
    },
    {
      "cell_type": "code",
      "source": [
        "numbers = [1, 5, 3, 9, 8]\n",
        "sum(n**3 for n in numbers)"
      ],
      "metadata": {
        "colab": {
          "base_uri": "https://localhost:8080/"
        },
        "id": "wJCUB6zHhvPW",
        "outputId": "c54bca7f-f17b-4bea-8a9e-a37ecb3659de"
      },
      "execution_count": 20,
      "outputs": [
        {
          "output_type": "execute_result",
          "data": {
            "text/plain": [
              "1394"
            ]
          },
          "metadata": {},
          "execution_count": 20
        }
      ]
    },
    {
      "cell_type": "markdown",
      "source": [
        "Esto (a veces) tiene la ventaja de mejorar la legibilidad junto con la compacidad. Es fácil ver inmediatamente lo que la línea de arriba está haciendo en esta notación."
      ],
      "metadata": {
        "id": "j3OxhfGUh7KS"
      }
    },
    {
      "cell_type": "markdown",
      "source": [
        "#**Tuplas**\n",
        "\n",
        "Otra tarea habitual consiste en emparejar fragmentos de datos. Por ejemplo, en mi lista de cumpleaños de amigos, quiero una forma de mantener una agrupación coherente de cada amigo con su cumpleaños. Algo así como una lista de pares de la forma (amigo, cumpleaños). Las tuplas son una posible solución:"
      ],
      "metadata": {
        "id": "36kb4KLbh9OR"
      }
    },
    {
      "cell_type": "code",
      "source": [
        "birthdays = [\n",
        "    ('James', 'Aug 25'),\n",
        "    ('Tommy', 'Sept 12'),\n",
        "    ('Jason', 'Jun 13'),\n",
        "    ('Lexi', 'Feb 1'),\n",
        "]"
      ],
      "metadata": {
        "id": "cLN1YgDlh34V"
      },
      "execution_count": 22,
      "outputs": []
    },
    {
      "cell_type": "markdown",
      "source": [
        "Las tuplas son similares a las listas, pero son «inmutables». En otras palabras, una vez que creamos una tupla, no podemos cambiar su contenido. Por lo demás, podemos seguir accediendo a los elementos de la misma manera. Por ejemplo,"
      ],
      "metadata": {
        "id": "kWcx9acwiHB5"
      }
    },
    {
      "cell_type": "code",
      "source": [
        "entry = birthdays[1]\n",
        "print(entry)\n",
        "print(entry[1])"
      ],
      "metadata": {
        "colab": {
          "base_uri": "https://localhost:8080/"
        },
        "id": "7iuciq5uiDv8",
        "outputId": "8f19db44-9f19-4ffc-96d9-b0c53a091f01"
      },
      "execution_count": 23,
      "outputs": [
        {
          "output_type": "stream",
          "name": "stdout",
          "text": [
            "('Tommy', 'Sept 12')\n",
            "Sept 12\n"
          ]
        }
      ]
    },
    {
      "cell_type": "markdown",
      "source": [
        "Python también tiene un buen método de asignación de «coincidencia de patrones» utilizando tuplas. Por ejemplo, si quiero imprimir sólo los cumpleaños de mi lista iterando los pares, puedo usar:"
      ],
      "metadata": {
        "id": "etYcC1yaiOxH"
      }
    },
    {
      "cell_type": "code",
      "source": [
        "for (name, bday) in birthdays:\n",
        "  print(bday)"
      ],
      "metadata": {
        "colab": {
          "base_uri": "https://localhost:8080/"
        },
        "id": "XQDVznXPiL3N",
        "outputId": "b1a1ab58-c837-47b4-982f-f99ca6f0a8b6"
      },
      "execution_count": 24,
      "outputs": [
        {
          "output_type": "stream",
          "name": "stdout",
          "text": [
            "Aug 25\n",
            "Sept 12\n",
            "Jun 13\n",
            "Feb 1\n"
          ]
        }
      ]
    },
    {
      "cell_type": "markdown",
      "source": [
        "Además, podemos hacer que esto sea aún más «limpio» utilizando simplemente:"
      ],
      "metadata": {
        "id": "MjswG7ifiVYc"
      }
    },
    {
      "cell_type": "code",
      "source": [
        "for name, bday in birthdays:\n",
        "  print(bday)"
      ],
      "metadata": {
        "colab": {
          "base_uri": "https://localhost:8080/"
        },
        "id": "-XsBEtK-iTOU",
        "outputId": "cbe2250d-3dda-4e9c-abb7-0d232862c3f6"
      },
      "execution_count": 25,
      "outputs": [
        {
          "output_type": "stream",
          "name": "stdout",
          "text": [
            "Aug 25\n",
            "Sept 12\n",
            "Jun 13\n",
            "Feb 1\n"
          ]
        }
      ]
    },
    {
      "cell_type": "markdown",
      "source": [
        "Otro ejemplo común de esto es un iterador en Python llamado enumerar, que empareja el índice de y elemento con el elemento:"
      ],
      "metadata": {
        "id": "USaXZzQoiaw9"
      }
    },
    {
      "cell_type": "code",
      "source": [
        "numbers = [1, 5, 3, 6, 1]\n",
        "\n",
        "for n, xn in enumerate(numbers):\n",
        "  print(str(n) + ' -> ' + str(xn))"
      ],
      "metadata": {
        "colab": {
          "base_uri": "https://localhost:8080/"
        },
        "id": "S3XMPiXziY0E",
        "outputId": "a84a72cb-4ec3-4b01-fc7a-0f3ae673383f"
      },
      "execution_count": 26,
      "outputs": [
        {
          "output_type": "stream",
          "name": "stdout",
          "text": [
            "0 -> 1\n",
            "1 -> 5\n",
            "2 -> 3\n",
            "3 -> 6\n",
            "4 -> 1\n"
          ]
        }
      ]
    },
    {
      "cell_type": "markdown",
      "source": [
        "#**Ejercicio 2**\n",
        "1. Supongamos que estoy jugando a un juego de cartas como el póquer. ¿Cuáles son algunas formas posibles de representar mi mano actual en el juego?\n",
        "2. Haz una lista corta de los cumpleaños de tus amigos como la de arriba. Imprime una versión ordenada de esta lista. ¿Notas cómo la ordena Python? Ahora, escribe una función que cree una nueva lista de cumpleaños pero con el orden del nombre y el cumpleaños intercambiados. Imprime una versión ordenada de esta lista. ¿Notas la diferencia?\n",
        "3. Crea una lista con los números del 1 al 10. Crea una nueva lista con los pares de números consecutivos de la lista. Por ejemplo, [(1, 2), (2, 3), (3, 4), ..., (9, 10)].\n",
        "4. Escriba una función que tome dos tuplas de pares (x1, y1) y (x2, y2) y devuelva la «suma vectorial» (x1+x2, y1+y2). Esto sugiere que podemos intentar implementar una colección completa de funciones de soporte para el álgebra vectorial. De hecho, ¡este tipo de abstracción de datos es otro enfoque crucial para construir programas!"
      ],
      "metadata": {
        "id": "V_MT6J49ihkT"
      }
    },
    {
      "cell_type": "markdown",
      "source": [
        "#**Diccionarios**\n",
        "\n",
        "Imaginemos una guía telefónica inversa para un sistema de identificación de llamadas. Queremos poder identificar a una persona por su número de teléfono, así que necesitamos una estructura de datos que tome un número de teléfono y nos dé un nombre. En segundo lugar, queremos poder actualizar nuestros datos añadiendo, eliminando o modificando entradas a medida que cambian.\n",
        "\n",
        "Una forma de hacerlo es mantener una gran lista de pares (clave, valor). Pero... para realizar todas las operaciones que queremos de forma eficiente, necesitaríamos imponer algún tipo de estructura sobre cómo se organizan los elementos. Si no estamos planeando utilizar realmente esta estructura aparte de un problema corto, esto es quizás demasiado esfuerzo para utilizar.\n",
        "\n",
        "Alternativamente, podríamos intentar implementar dicha estructura de datos como una gran lista con entradas posiblemente vacías para cada número de teléfono posible. Pero, como puedes imaginar, es probable que esto sea una representación demasiado densa para lo que queremos...\n",
        "Lo que realmente queremos es usar un diccionario. Estos son una estructura de datos incorporada en Python y proporcionan exactamente el tipo de comportamiento clave -> valor que nos gustaría."
      ],
      "metadata": {
        "id": "G_YBWP4Yi0UF"
      }
    },
    {
      "cell_type": "code",
      "source": [
        "phonebook = {}\n",
        "phonebook['2173218822'] = 'Tommy Cool-guy'\n",
        "phonebook['2173211122'] = 'Michael Jordan'\n",
        "phonebook['2183321232'] = 'Bobby Bigmoney Patterson'"
      ],
      "metadata": {
        "id": "8ak1PYOMifTM"
      },
      "execution_count": 27,
      "outputs": []
    },
    {
      "cell_type": "markdown",
      "source": [
        "Alternativamente, al inicializar un diccionario, podemos utilizar la abreviatura:"
      ],
      "metadata": {
        "id": "2jv6wBeii-lS"
      }
    },
    {
      "cell_type": "code",
      "source": [
        "phonebook = {\n",
        "    '2173218822': 'Tommy Cool-guy',\n",
        "    '2173211122': 'Michael Jordan',\n",
        "    '2183321232': 'Bobby Bigmoney Patterson',\n",
        "}"
      ],
      "metadata": {
        "id": "8gY233WHi8fW"
      },
      "execution_count": 28,
      "outputs": []
    },
    {
      "cell_type": "markdown",
      "source": [
        "Para buscar una entrada, podemos utilizar simplemente la misma notación de índice que utilizamos para las listas."
      ],
      "metadata": {
        "id": "l8aUii54jCaa"
      }
    },
    {
      "cell_type": "code",
      "source": [
        "print(phonebook['2173211122'])"
      ],
      "metadata": {
        "colab": {
          "base_uri": "https://localhost:8080/"
        },
        "id": "2XS3J_mPjAlm",
        "outputId": "820daa8b-fa63-4325-ea7d-c3a5aacb3e03"
      },
      "execution_count": 29,
      "outputs": [
        {
          "output_type": "stream",
          "name": "stdout",
          "text": [
            "Michael Jordan\n"
          ]
        }
      ]
    },
    {
      "cell_type": "markdown",
      "source": [
        "*Llegados a este punto, debemos reflexionar sobre una diferencia importante entre las listas y los diccionarios. Recuerda que las listas sólo aceptan indicies enteros, mientras que los diccionarios pueden utilizar muchos otros tipos como claves. En relación con esto, los tipos generales de claves no tienen un orden natural, por lo que deberíamos esperar cualquier tipo de orden en cómo se almacenan los elementos de un diccionario.*\n",
        "\n",
        "Si queremos comprobar si una clave está en el diccionario, podemos utilizar las sentencias in y not in:"
      ],
      "metadata": {
        "id": "P89w743UjIw1"
      }
    },
    {
      "cell_type": "code",
      "source": [
        "print('2173211122' in phonebook)\n",
        "print('2173211122' not in phonebook)"
      ],
      "metadata": {
        "colab": {
          "base_uri": "https://localhost:8080/"
        },
        "id": "AM_Ks9XCjF5E",
        "outputId": "2b76c055-0aa4-43a5-deda-5be1a0742e44"
      },
      "execution_count": 32,
      "outputs": [
        {
          "output_type": "stream",
          "name": "stdout",
          "text": [
            "True\n",
            "False\n"
          ]
        }
      ]
    },
    {
      "cell_type": "markdown",
      "source": [
        "Podemos eliminar entradas utilizando la sentencia del."
      ],
      "metadata": {
        "id": "3GhP3fHtjStS"
      }
    },
    {
      "cell_type": "code",
      "source": [
        "phonebook['2173211122'] = 'Michael Jordan'\n",
        "print('2173211122' in phonebook)\n",
        "print(phonebook['2173211122'] + ' is retiring...')\n",
        "del(phonebook['2173211122'])\n",
        "print('2173211122' in phonebook)"
      ],
      "metadata": {
        "colab": {
          "base_uri": "https://localhost:8080/"
        },
        "id": "Jp3tOlwnjOwY",
        "outputId": "6986bc30-6233-4993-f18e-f591d23ff472"
      },
      "execution_count": 34,
      "outputs": [
        {
          "output_type": "stream",
          "name": "stdout",
          "text": [
            "True\n",
            "Michael Jordan is retiring...\n",
            "False\n"
          ]
        }
      ]
    },
    {
      "cell_type": "markdown",
      "source": [
        "Por último, al igual que con las listas, podemos enumerar los elementos."
      ],
      "metadata": {
        "id": "5zzwIfYtjw1R"
      }
    },
    {
      "cell_type": "code",
      "source": [
        "for num, name in phonebook.items():\n",
        "  print(str(num) + ' -> ' + str(name))"
      ],
      "metadata": {
        "colab": {
          "base_uri": "https://localhost:8080/"
        },
        "id": "of6fN3j8jpzE",
        "outputId": "38ccd75c-6691-46cf-d426-b7a6891f644a"
      },
      "execution_count": 35,
      "outputs": [
        {
          "output_type": "stream",
          "name": "stdout",
          "text": [
            "2173218822 -> Tommy Cool-guy\n",
            "2183321232 -> Bobby Bigmoney Patterson\n"
          ]
        }
      ]
    },
    {
      "cell_type": "markdown",
      "source": [
        "#**Ejercicio 3**\n",
        "\n",
        "1. Escribe un diccionario que traduzca una abreviatura de cada día de la semana al número de día correspondiente. Por ejemplo:\n",
        "Lun -> 1, Mar -> 2, Mie -> 3, Jue -> 4, ...\n",
        "A ver si puedes utilizarlo para construir un diccionario «inverso» que convierta los números de los días en nombres de días.\n",
        "2. Suponga que tiene la lista\n",
        "['perro', 'lápiz', 'valla', 'perro', 'manzana', 'perro', 'perro', 'perro', 'pera', 'lápiz', 'pera', 'pera'].\n",
        "Utiliza un diccionario para calcular el número de veces que aparece cada palabra.\n",
        "3. A continuación, imprime los dos elementos más frecuentes. (Sugerencia: Intenta convertir el diccionario en una lista de pares clave-valor (o pares valor-clave) y ordénala)."
      ],
      "metadata": {
        "id": "2F5ir9aij5er"
      }
    },
    {
      "cell_type": "markdown",
      "source": [
        "#**Conjuntos**\n",
        "\n",
        "El último escenario que vamos a considerar aquí es algo parecido a lo siguiente: Supongamos que obtengo texto de páginas web y registro las 20 palabras que aparecen con más frecuencia en una página concreta. Supongamos ahora que quiero comprobar si esas palabras aparecen con frecuencia en dos páginas distintas.\n",
        "\n",
        "¿Cómo podría hacerlo?\n",
        "\n",
        "Bueno, si almacenara ambos elementos en una lista, podría hacer algo como: para cada elemento de la primera lista, compruebe si está en la segunda.\n",
        "\n",
        "El problema con esto es que, digamos que en el peor de los casos, las dos listas son totalmente disjuntas, para cada elemento de la primera lista, estoy realizando un número de pasos proporcional a la longitud de la segunda lista. En este caso, 20. A continuación, hago lo mismo para cada elemento de la primera lista. En total, ¡he realizado 400 pasos!\n",
        "\n",
        "Se puede decir que este método se escala a $O(n^2)$ del tamaño de la entrada. Para nuestros propósitos, esto no es un problema. Pero, ¿y si duplicara el tamaño de los datos? ¿O aumentarlo un orden de magnitud? Entonces empezaríamos a tener problemas... No es algo en lo que vayamos a profundizar mucho aquí, pero es algo que merece la pena tener en cuenta a la hora de diseñar soluciones a los problemas.\n",
        "\n",
        "Entonces, ¿qué más podemos hacer? Bueno, ¡podemos usar una estructura de datos más inteligente! Esta vez, un conjunto. Python proporciona una estructura de datos para trabajar con conjuntos de la misma forma en que pensamos. Por ejemplo, los elementos sólo aparecerán una vez en un conjunto. Podemos calcular eficientemente la unión, intersección o diferencia de dos conjuntos. Y así sucesivamente..."
      ],
      "metadata": {
        "id": "UvYsArGjkI9s"
      }
    },
    {
      "cell_type": "code",
      "source": [
        "A = {1, 2, 5, 7, 8, 9}\n",
        "B = {2, 4, 5, 8, 10}"
      ],
      "metadata": {
        "id": "vbyhTAoCkFMl"
      },
      "execution_count": 36,
      "outputs": []
    },
    {
      "cell_type": "code",
      "source": [
        "print(A)\n",
        "print(B)\n",
        "print(len(A))"
      ],
      "metadata": {
        "colab": {
          "base_uri": "https://localhost:8080/"
        },
        "id": "cK4gekDakaYL",
        "outputId": "064ed736-e342-424e-c3c9-9d4c0b5075d7"
      },
      "execution_count": 37,
      "outputs": [
        {
          "output_type": "stream",
          "name": "stdout",
          "text": [
            "{1, 2, 5, 7, 8, 9}\n",
            "{2, 4, 5, 8, 10}\n",
            "6\n"
          ]
        }
      ]
    },
    {
      "cell_type": "markdown",
      "source": [
        "Podemos comprobar la pertenencia a un conjunto de la siguiente manera."
      ],
      "metadata": {
        "id": "G52tactFmvNR"
      }
    },
    {
      "cell_type": "code",
      "source": [
        "print(2 in A)\n",
        "print(3 in A)"
      ],
      "metadata": {
        "colab": {
          "base_uri": "https://localhost:8080/"
        },
        "id": "TiW3rBFmms1E",
        "outputId": "f0ddcb6c-9425-4834-930e-ccede19d23d3"
      },
      "execution_count": 38,
      "outputs": [
        {
          "output_type": "stream",
          "name": "stdout",
          "text": [
            "True\n",
            "False\n"
          ]
        }
      ]
    },
    {
      "cell_type": "markdown",
      "source": [
        "De forma similar a las listas, podemos añadir y eliminar elementos de los conjuntos:\n"
      ],
      "metadata": {
        "id": "xdh2-Ojym0ns"
      }
    },
    {
      "cell_type": "code",
      "source": [
        "A = {1, 4, 5}\n",
        "A.add(3)\n",
        "A"
      ],
      "metadata": {
        "colab": {
          "base_uri": "https://localhost:8080/"
        },
        "id": "8jJgHDo-my70",
        "outputId": "1077dfa7-a59d-4085-9a2a-c61eed0ee965"
      },
      "execution_count": 39,
      "outputs": [
        {
          "output_type": "execute_result",
          "data": {
            "text/plain": [
              "{1, 3, 4, 5}"
            ]
          },
          "metadata": {},
          "execution_count": 39
        }
      ]
    },
    {
      "cell_type": "code",
      "source": [
        "A.remove(5)\n",
        "A"
      ],
      "metadata": {
        "colab": {
          "base_uri": "https://localhost:8080/"
        },
        "id": "nRzVY9I-m20z",
        "outputId": "bc808042-6b91-464a-cef4-2f7c351d7643"
      },
      "execution_count": 40,
      "outputs": [
        {
          "output_type": "execute_result",
          "data": {
            "text/plain": [
              "{1, 3, 4}"
            ]
          },
          "metadata": {},
          "execution_count": 40
        }
      ]
    },
    {
      "cell_type": "markdown",
      "source": [
        "También podemos calcular algunas operaciones estándar con conjuntos tal y como las escribiríamos matemáticamente."
      ],
      "metadata": {
        "id": "GENlel3Im6ZI"
      }
    },
    {
      "cell_type": "code",
      "source": [
        "print(A & B)\n",
        "print(A | B)\n",
        "print(A - B)"
      ],
      "metadata": {
        "colab": {
          "base_uri": "https://localhost:8080/"
        },
        "id": "M8ac4GTHm4tK",
        "outputId": "d50d33d8-0e87-4843-f8ee-3ca479147aa5"
      },
      "execution_count": 41,
      "outputs": [
        {
          "output_type": "stream",
          "name": "stdout",
          "text": [
            "{4}\n",
            "{1, 2, 3, 4, 5, 8, 10}\n",
            "{1, 3}\n"
          ]
        }
      ]
    },
    {
      "cell_type": "markdown",
      "source": [
        "Por último, los conjuntos admiten las comparaciones de subconjuntos estándar a las que estamos acostumbrados:\n"
      ],
      "metadata": {
        "id": "IkuhyTnHm_9J"
      }
    },
    {
      "cell_type": "code",
      "source": [
        "A = {1, 2, 3}\n",
        "B = {1, 3}\n",
        "print(B < A)\n",
        "print(B <= A)"
      ],
      "metadata": {
        "colab": {
          "base_uri": "https://localhost:8080/"
        },
        "id": "1Iu1dBlFm-kz",
        "outputId": "261ba02f-bd31-4326-b8c4-e6863725a164"
      },
      "execution_count": 42,
      "outputs": [
        {
          "output_type": "stream",
          "name": "stdout",
          "text": [
            "True\n",
            "True\n"
          ]
        }
      ]
    },
    {
      "cell_type": "markdown",
      "source": [
        "Una sutil diferencia entre los conjuntos y las listas o los diccionarios es que los conjuntos no tienen ninguna noción natural de indexación. En otras palabras, no podemos acceder a un elemento mediante una clave. Sin embargo, podemos utilizar un iterador para obtener los elementos de un conjunto:\n"
      ],
      "metadata": {
        "id": "vwSw4NwlnGjU"
      }
    },
    {
      "cell_type": "code",
      "source": [
        "S = {1, 2, 3}\n",
        "for x in S:\n",
        "  print(x)"
      ],
      "metadata": {
        "colab": {
          "base_uri": "https://localhost:8080/"
        },
        "id": "XQ_MMgfDnE0r",
        "outputId": "f8369ec8-9cf1-4802-d02d-e87594101f7e"
      },
      "execution_count": 43,
      "outputs": [
        {
          "output_type": "stream",
          "name": "stdout",
          "text": [
            "1\n",
            "2\n",
            "3\n"
          ]
        }
      ]
    },
    {
      "cell_type": "markdown",
      "source": [
        "Por último, a la luz de la discusión anterior sobre el generador, podemos utilizar la notación del constructor de conjuntos de la siguiente manera:\n"
      ],
      "metadata": {
        "id": "7RJrXD5unLsQ"
      }
    },
    {
      "cell_type": "code",
      "source": [
        "dice = range(1, 7)\n",
        "\n",
        "pairs = {(a, b) for a in dice\n",
        "                for b in dice\n",
        "                if a == 2 or b == 2}"
      ],
      "metadata": {
        "id": "0pPiW5r2nJ25"
      },
      "execution_count": 44,
      "outputs": []
    },
    {
      "cell_type": "markdown",
      "source": [
        "#**Ejercicio 4**\n",
        "\n",
        "1. Escribe una función que calcule la diferencia simétrica de dos conjuntos.\n",
        "2. Suponga que tiene una lista de números como:\n",
        "\n",
        "<center>\n",
        "[1, 4, 5, 3, 6, 7, 5, 3, 1, 9, 3, 3, 4, 2]\n",
        "</center>\n",
        "\n",
        "¿Cómo podrías utilizar una estructura de datos de conjuntos para eliminar todos los duplicados de la lista?\n",
        "3. Suponga que tengo un servidor y una lista de usuarios «malos» de los que quiero asegurarme de que no pueden conectarse. Escribe una función que tome una lista de usuarios que quieren conectarse y un conjunto de usuarios malos. Por ejemplo, si le doy\n",
        "\n",
        "<center>\n",
        "users = ['tom', 'pam', 'sasha', 'jj', 'que', 'jeff']\n",
        "bad = set(['jeff', 'sasha'])\n",
        "</center>\n",
        "\n",
        "Debería devolver una lista «permitida»:\n",
        "\n",
        "<center>\n",
        "['tom', 'pam', 'jj', 'que']\n",
        "</center>\n",
        "\n",
        "4. Supongamos que lanzas dos dados justos. Representa los pares de tiradas para los que al menos una entrada es un 2 o un 5 utilizando un conjunto y calcula la probabilidad de obtener uno de ellos."
      ],
      "metadata": {
        "id": "VEyyaM0bnT5J"
      }
    },
    {
      "cell_type": "code",
      "source": [
        "# Inserte su código aquí"
      ],
      "metadata": {
        "id": "RktglDJcnQdx"
      },
      "execution_count": null,
      "outputs": []
    }
  ]
}
