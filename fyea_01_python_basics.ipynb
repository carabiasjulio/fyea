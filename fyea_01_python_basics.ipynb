{
  "nbformat": 4,
  "nbformat_minor": 0,
  "metadata": {
    "colab": {
      "provenance": [],
      "authorship_tag": "ABX9TyN29v+TLxwg2TWGYA7C6g42",
      "include_colab_link": true
    },
    "kernelspec": {
      "name": "python3",
      "display_name": "Python 3"
    },
    "language_info": {
      "name": "python"
    }
  },
  "cells": [
    {
      "cell_type": "markdown",
      "metadata": {
        "id": "view-in-github",
        "colab_type": "text"
      },
      "source": [
        "<a href=\"https://colab.research.google.com/github/carabiasjulio/fyea/blob/main/fyea_01_python_basics.ipynb\" target=\"_parent\"><img src=\"https://colab.research.google.com/assets/colab-badge.svg\" alt=\"Open In Colab\"/></a>"
      ]
    },
    {
      "cell_type": "markdown",
      "source": [
        "# **Programación en Python**\n",
        "\n",
        "**¿Por qué Python?**\n",
        "\n",
        "¡Python es expresivo! Es un lenguaje de alto nivel y de propósito general que ofrece mucha flexibilidad en la forma en que puedes usarlo.\n",
        "\n",
        "¡Python está disponible! Es un lenguaje ampliamente utilizado, gratuito y que funciona en muchas plataformas diferentes.\n",
        "\n",
        "¡Python es extensible! Existen muchos módulos disponibles para resolver todo tipo de problemas, desde obtener datos de servidores web, crear juegos, realizar grandes cálculos numéricos, y mucho más.\n",
        "\n",
        "¡Python es interpretado! Aunque esto no es un beneficio absoluto, para nosotros significa que escribir código y ejecutarlo están más estrechamente vinculados, lo cual es excelente para explorar nuevos problemas y obtener retroalimentación del código mientras lo escribes.\n",
        "\n",
        "**Basic Expressions**\n",
        "\n",
        "Empezaremos haciendo que Python nos salude. Para ello, escribiremos"
      ],
      "metadata": {
        "id": "srrPsVQYZhtR"
      }
    },
    {
      "cell_type": "code",
      "execution_count": null,
      "metadata": {
        "id": "25awzSjCZM3i"
      },
      "outputs": [],
      "source": [
        "print(\"Hello World\")"
      ]
    },
    {
      "cell_type": "markdown",
      "source": [
        "¡Qué bien! Ha sido fácil y las cosas pintan bien.\n",
        "\n",
        "Ahora vamos a hacer algunos cálculos numéricos, utilizando Python como nuestra calculadora"
      ],
      "metadata": {
        "id": "9hGG2odxZ9Kq"
      }
    },
    {
      "cell_type": "code",
      "source": [
        "1032 + 431"
      ],
      "metadata": {
        "colab": {
          "base_uri": "https://localhost:8080/"
        },
        "id": "ygqAD3Y-aBaQ",
        "outputId": "8946775c-4918-4c94-f759-793ab5049d30"
      },
      "execution_count": null,
      "outputs": [
        {
          "output_type": "execute_result",
          "data": {
            "text/plain": [
              "1463"
            ]
          },
          "metadata": {},
          "execution_count": 1
        }
      ]
    },
    {
      "cell_type": "code",
      "source": [
        "(1232 + 3.0) * 43"
      ],
      "metadata": {
        "colab": {
          "base_uri": "https://localhost:8080/"
        },
        "id": "VcA9-8v_aDR1",
        "outputId": "6582c904-d2ce-4580-a7b6-447bed964e53"
      },
      "execution_count": null,
      "outputs": [
        {
          "output_type": "execute_result",
          "data": {
            "text/plain": [
              "53105.0"
            ]
          },
          "metadata": {},
          "execution_count": 2
        }
      ]
    },
    {
      "cell_type": "code",
      "source": [
        "2.0 * (1032.0 + 3.0) / (3.0 + 4.0*7.1)"
      ],
      "metadata": {
        "colab": {
          "base_uri": "https://localhost:8080/"
        },
        "id": "xwE8kydZaF1r",
        "outputId": "7d262b02-389e-48a9-8bae-16162d802b37"
      },
      "execution_count": null,
      "outputs": [
        {
          "output_type": "execute_result",
          "data": {
            "text/plain": [
              "65.92356687898089"
            ]
          },
          "metadata": {},
          "execution_count": 3
        }
      ]
    },
    {
      "cell_type": "code",
      "source": [
        "1102 % 7"
      ],
      "metadata": {
        "id": "ibk-7Z5PaIxE"
      },
      "execution_count": null,
      "outputs": []
    },
    {
      "cell_type": "markdown",
      "source": [
        "Si queremos comparar dos números, podemos escribir (casi) lo que esperaríamos"
      ],
      "metadata": {
        "id": "P2d1kIMXaJ2e"
      }
    },
    {
      "cell_type": "code",
      "source": [
        "2 ** 8 >= 200"
      ],
      "metadata": {
        "colab": {
          "base_uri": "https://localhost:8080/"
        },
        "id": "oEm6WjNEaMp9",
        "outputId": "ca74e11f-49dc-4dea-c097-3baa98e00727"
      },
      "execution_count": null,
      "outputs": [
        {
          "output_type": "execute_result",
          "data": {
            "text/plain": [
              "True"
            ]
          },
          "metadata": {},
          "execution_count": 4
        }
      ]
    },
    {
      "cell_type": "code",
      "source": [
        "346 % 2 == 0"
      ],
      "metadata": {
        "id": "GVRGK2h_aPU1"
      },
      "execution_count": null,
      "outputs": []
    },
    {
      "cell_type": "markdown",
      "source": [
        "\n",
        "Es un buen comienzo, pero rápidamente se vuelve difícil de manejar. Empecemos con la abstracción más simple y comencemos a nombrar las cosas."
      ],
      "metadata": {
        "id": "TiBF16nQaVMa"
      }
    },
    {
      "cell_type": "code",
      "source": [
        "P = 800.0\n",
        "r = 0.01\n",
        "t = 2.0\n",
        "print(P*(1 + r)**t)"
      ],
      "metadata": {
        "colab": {
          "base_uri": "https://localhost:8080/"
        },
        "id": "YTOUhR-CaTsD",
        "outputId": "89bcc3dd-99a9-48ee-8201-ffe6027b35f9"
      },
      "execution_count": null,
      "outputs": [
        {
          "output_type": "stream",
          "name": "stdout",
          "text": [
            "816.08\n"
          ]
        }
      ]
    },
    {
      "cell_type": "markdown",
      "source": [
        "Del mismo modo, trabajo con expresiones que implican otros tipos de datos. Por ejemplo, las cadenas son un tipo de datos muy común que se utiliza para representar una secuencia de caracteres:"
      ],
      "metadata": {
        "id": "nwnKQWgpabLy"
      }
    },
    {
      "cell_type": "code",
      "source": [
        "s = \"The String Called s!\"\n",
        "t = \"The String Called t!\"\n",
        "print(s)\n",
        "print(s + \" \" + t)\n",
        "print(len(s))"
      ],
      "metadata": {
        "colab": {
          "base_uri": "https://localhost:8080/"
        },
        "id": "aE6CuJG-aYg1",
        "outputId": "2eb7003f-69af-457f-8168-755187f70d09"
      },
      "execution_count": null,
      "outputs": [
        {
          "output_type": "stream",
          "name": "stdout",
          "text": [
            "The String Called s!\n",
            "The String Called s! The String Called t!\n",
            "20\n"
          ]
        }
      ]
    },
    {
      "cell_type": "markdown",
      "source": [
        "O datos booleanos, que se utilizan para representar valores Verdadero / Falso. Este tipo de datos admite todos los predicados lógicos estánd"
      ],
      "metadata": {
        "id": "nJx8ROC8akvh"
      }
    },
    {
      "cell_type": "code",
      "source": [
        "x = True\n",
        "y = False\n",
        "print(x)\n",
        "print(x and y)\n",
        "print(x or y)\n",
        "print(not x)\n",
        "print(not not x)"
      ],
      "metadata": {
        "id": "JnW-kzUxafZg",
        "colab": {
          "base_uri": "https://localhost:8080/"
        },
        "outputId": "3cafe19c-29fe-4351-c6c3-3661990b863a"
      },
      "execution_count": 7,
      "outputs": [
        {
          "output_type": "stream",
          "name": "stdout",
          "text": [
            "True\n",
            "False\n",
            "True\n",
            "False\n",
            "True\n"
          ]
        }
      ]
    },
    {
      "cell_type": "markdown",
      "source": [
        "También puedo hacer cosas como reasignar una variable para incrementarla."
      ],
      "metadata": {
        "id": "xlmRQUlgc2Ru"
      }
    },
    {
      "cell_type": "code",
      "source": [
        "x = 10\n",
        "x = x + 1\n",
        "print(x)"
      ],
      "metadata": {
        "id": "PkrxQC4VcyVE"
      },
      "execution_count": null,
      "outputs": []
    },
    {
      "cell_type": "markdown",
      "source": [
        "O si lo prefiero, puedo utilizar la abreviatura:"
      ],
      "metadata": {
        "id": "by5u07Gbc1RQ"
      }
    },
    {
      "cell_type": "code",
      "source": [
        "x = 10\n",
        "x += 1\n",
        "print(x)"
      ],
      "metadata": {
        "colab": {
          "base_uri": "https://localhost:8080/"
        },
        "id": "Tb2VPFUpc9yP",
        "outputId": "2d2dc617-2b14-46e4-9fb3-9752fafc49aa"
      },
      "execution_count": 8,
      "outputs": [
        {
          "output_type": "stream",
          "name": "stdout",
          "text": [
            "11\n"
          ]
        }
      ]
    },
    {
      "cell_type": "markdown",
      "source": [
        "Muchos de los operadores estándar (+, -, *, /, ...) admiten este tipo de notación abreviada. No obstante, puedes utilizar la que prefieras."
      ],
      "metadata": {
        "id": "4_CpXK9GdC84"
      }
    },
    {
      "cell_type": "markdown",
      "source": [
        "\n",
        "**Ejercicio 1**\n",
        "\n",
        "1.   Traduce la siguiente expresión a código: $\\frac{1.3/1.2+4.3×2.0}{15−2.3}$\n",
        "2.   Comprueba si $4431$ y $7523$ son iguales mod $7$.\n",
        "3.   Define pi utilizando la aproximación $\\frac{355}{113}$. Utilízalo para calcular la circunferencia y el área de un círculo de radio $5$. (¡En este problema puede producirse un error sutil! Prueba a imprimir pi después de definirlo. ¿Obtienes una respuesta inesperada? )"
      ],
      "metadata": {
        "id": "Zs4qYP6tdHu9"
      }
    },
    {
      "cell_type": "code",
      "source": [
        "# ESCRIBE TU CóDIGO AQUí\n"
      ],
      "metadata": {
        "id": "Zeqdz9D9c_cy"
      },
      "execution_count": 9,
      "outputs": []
    },
    {
      "cell_type": "markdown",
      "source": [
        "#**Program Flow**\n",
        "\n",
        "Ahora, supongamos que quiero hacer algo como calcular el mínimo de dos números o calcular el valor absoluto de dos números. ¿Cómo haría algo así? Bueno, sabemos que una definición para estos es\n",
        "\n",
        "<center>\n",
        "$min(a,b)=\\begin{cases}\n",
        "a & \\text{ if }  a<b \\\\\n",
        "b & \\text{ if }  a>b\n",
        "\\end{cases}$\n",
        "\n",
        "$|a|=\\begin{cases}\n",
        "a & \\text{ if }  a>0 \\\\\n",
        "-a & \\text{ if }  a<0 \\\\\n",
        "0 & \\text{ if }  a=0\n",
        "\\end{cases}$\n",
        "</center>\n",
        "\n",
        "¿Cómo convertiríamos esto en código? Empecemos por la propia toma de decisiones. Podemos hacerlo introduciendo sentencias condicionales:"
      ],
      "metadata": {
        "id": "NawAW6mTeFR8"
      }
    },
    {
      "cell_type": "code",
      "source": [
        "x = 30\n",
        "y = 20\n",
        "\n",
        "if x < y:\n",
        "    print(x)\n",
        "else:\n",
        "    print(y)"
      ],
      "metadata": {
        "id": "XuoXRvgrgamV"
      },
      "execution_count": null,
      "outputs": []
    },
    {
      "cell_type": "markdown",
      "source": [
        "Si hay varias o incluso muchas opciones, entonces podemos escribir algo como:"
      ],
      "metadata": {
        "id": "nMtTQ2IWgdQR"
      }
    },
    {
      "cell_type": "code",
      "source": [
        "day = 4\n",
        "\n",
        "if day == 0:\n",
        "    print(\"Monday\")\n",
        "elif day == 1:\n",
        "    print(\"Tuesday\")\n",
        "elif day == 2:\n",
        "    print(\"Wednesday\")\n",
        "elif day == 3:\n",
        "    print(\"Thursday\")\n",
        "elif day == 4:\n",
        "    print(\"Friday\")\n",
        "elif day == 5:\n",
        "    print(\"Saturday\")\n",
        "elif day == 6:\n",
        "    print(\"Sunday\")\n",
        "else:\n",
        "    print(\"...that's not even a real day...\")"
      ],
      "metadata": {
        "colab": {
          "base_uri": "https://localhost:8080/"
        },
        "id": "24MF5xVFggsl",
        "outputId": "1dcfb158-b7a7-430a-bf38-72594b431d9d"
      },
      "execution_count": 10,
      "outputs": [
        {
          "output_type": "stream",
          "name": "stdout",
          "text": [
            "Friday\n"
          ]
        }
      ]
    },
    {
      "cell_type": "markdown",
      "source": [
        "Lamentablemente, esto es sólo una parte de lo que pedí más arriba. Lo que realmente quiero es una función en la que pueda introducir valores y obtener un resultado. Así que ahora introduciremos una nueva y poderosa abstracción:\n",
        "\n",
        "¡Funciones! Veamos cómo convertiríamos nuestra función min en un cálculo real."
      ],
      "metadata": {
        "id": "f9yszwdJgj9p"
      }
    },
    {
      "cell_type": "code",
      "source": [
        "def min(x, y):\n",
        "    if x < y:\n",
        "        return x\n",
        "    else:\n",
        "        return y\n",
        "\n",
        "print(min(3, 5))\n",
        "print(min(9, 4))\n",
        "print(min(min(5, 2), 3)) # I can even plug a result into another computation!"
      ],
      "metadata": {
        "colab": {
          "base_uri": "https://localhost:8080/"
        },
        "id": "5u_oisvUd_6a",
        "outputId": "e3493628-a1d9-4da8-ef71-73767dafddfe"
      },
      "execution_count": 13,
      "outputs": [
        {
          "output_type": "stream",
          "name": "stdout",
          "text": [
            "3\n",
            "4\n",
            "2\n"
          ]
        }
      ]
    },
    {
      "cell_type": "markdown",
      "source": [
        "One of the most important consequences of this is approach us, I don't care how a function is implemented. *(Assuming it's implemented correctly and maybe whether it's efficient or not! But, most importantly, I don't have to worry about correctness!)*\n",
        "\n",
        "For example, if one of my friends comes along and decides to implements a function slightly (or not so slightly) differently it shouldn't affect the way I use the function!"
      ],
      "metadata": {
        "id": "GG8d2CG3g5yD"
      }
    },
    {
      "cell_type": "code",
      "source": [
        "# my implementation of double\n",
        "def double(x):\n",
        "    return 2 * x\n",
        "\n",
        "print(double(7))\n",
        "\n",
        "# my friend's implementation of double\n",
        "def double(x):\n",
        "    return x + x\n",
        "\n",
        "print(double(7))"
      ],
      "metadata": {
        "colab": {
          "base_uri": "https://localhost:8080/"
        },
        "id": "Y2B69mQkg84j",
        "outputId": "b17b5e71-8398-4fcd-df77-e3e67ca99045"
      },
      "execution_count": 14,
      "outputs": [
        {
          "output_type": "stream",
          "name": "stdout",
          "text": [
            "14\n",
            "14\n"
          ]
        }
      ]
    },
    {
      "cell_type": "markdown",
      "source": [
        "Como te habrás dado cuenta, podemos tener funciones con el número de argumentos que queramos. Por ejemplo:"
      ],
      "metadata": {
        "id": "jbo_0lVNhD-U"
      }
    },
    {
      "cell_type": "code",
      "source": [
        "def add_three(x, y, z):\n",
        "    return x + y + z"
      ],
      "metadata": {
        "id": "CcPOrWsOg-uS"
      },
      "execution_count": null,
      "outputs": []
    },
    {
      "cell_type": "markdown",
      "source": [
        "O incluso una especie de función tonta como:"
      ],
      "metadata": {
        "id": "rfik2PuuhDE4"
      }
    },
    {
      "cell_type": "code",
      "source": [
        "def really_random_number():\n",
        "    return 3"
      ],
      "metadata": {
        "id": "eF2fx41FhC4Q"
      },
      "execution_count": null,
      "outputs": []
    },
    {
      "cell_type": "markdown",
      "source": [
        "Una cosa que puede preocuparte es tener que recordar el orden de los argumentos que toma una función. Python proporciona una buena sintaxis que a veces se denomina «argumentos con nombre». Un ejemplo de esto es:"
      ],
      "metadata": {
        "id": "1s4nk2tZhRts"
      }
    },
    {
      "cell_type": "code",
      "source": [
        "def show_a_minus_b(a, b):\n",
        "    return a - b\n",
        "\n",
        "print(show_a_minus_b(a=2, b=1))\n",
        "print(show_a_minus_b(b=7, a=2))"
      ],
      "metadata": {
        "colab": {
          "base_uri": "https://localhost:8080/"
        },
        "id": "Cg4xfGAMhQi6",
        "outputId": "62490ad7-26c8-4b3f-ecbe-f36cbf574981"
      },
      "execution_count": 15,
      "outputs": [
        {
          "output_type": "stream",
          "name": "stdout",
          "text": [
            "1\n",
            "-5\n"
          ]
        }
      ]
    },
    {
      "cell_type": "markdown",
      "source": [
        "Esto será útil más adelante, ya que varias funciones lo utilizan para suministrar argumentos opcionales para cambiar su comportamiento. Aunque, por ahora, sólo lo menciono."
      ],
      "metadata": {
        "id": "efr-HFWjhWpL"
      }
    },
    {
      "cell_type": "markdown",
      "source": [
        "**Ejercicio 2**\n",
        "\n",
        "\n",
        "\n",
        "1.   Escribe una función corta que decida si un número entero es par.\n",
        "2.   Rellena los datos de la función valor absoluto.\n",
        "3.   Escribe una función que eleve al cuadrado un número y utilízala para escribir una función que tome tres enteros y devuelva la suma de sus cuadrados.\n",
        "4.   Escribe una función que calcule el factorial de un número entero."
      ],
      "metadata": {
        "id": "VxGjFViWhY8m"
      }
    },
    {
      "cell_type": "code",
      "source": [
        "# Escribe tu código aquí\n"
      ],
      "metadata": {
        "id": "ZPBWY2eklUvh"
      },
      "execution_count": null,
      "outputs": []
    },
    {
      "cell_type": "markdown",
      "source": [
        "# **Importando Funcionalidad desde Módulos**\n",
        "\n",
        "Como puedes imaginar, no siempre tenemos que hacer todo el trabajo duro y escribir todo nosotros mismos. De hecho, algunas de las funciones que hemos definido como min y abs están incorporadas en Python.\n",
        "\n",
        "Entonces, ¿cómo podemos utilizar una función o definición definida externamente? Agreguemos algunas funciones nuevas a nuestra «calculadora» de antes desde el módulo matemático de Python."
      ],
      "metadata": {
        "id": "fuhNiPdLlb8j"
      }
    },
    {
      "cell_type": "code",
      "source": [
        "from math import sin, cos, pi\n",
        "print(pi)\n",
        "print(sin(2.1*pi))"
      ],
      "metadata": {
        "colab": {
          "base_uri": "https://localhost:8080/"
        },
        "id": "Fj6nmNuHhW-z",
        "outputId": "7f3dac76-afdd-4c27-bf26-a7aaf7444866"
      },
      "execution_count": 16,
      "outputs": [
        {
          "output_type": "stream",
          "name": "stdout",
          "text": [
            "3.141592653589793\n",
            "0.3090169943749472\n"
          ]
        }
      ]
    },
    {
      "cell_type": "markdown",
      "source": [
        "\n",
        "Esto es genial cuando sólo necesitas unas pocas cosas de un módulo. También puedes importar todo el módulo como un espacio de nombres."
      ],
      "metadata": {
        "id": "FO7WRMlAlZBC"
      }
    },
    {
      "cell_type": "code",
      "source": [
        "import math\n",
        "print(math.pi)\n",
        "print(math.sin(1.0))"
      ],
      "metadata": {
        "colab": {
          "base_uri": "https://localhost:8080/"
        },
        "id": "CtWJPds1mWnR",
        "outputId": "552ba190-3ec1-401a-bdc6-72768e8eac0f"
      },
      "execution_count": 17,
      "outputs": [
        {
          "output_type": "stream",
          "name": "stdout",
          "text": [
            "3.141592653589793\n",
            "0.8414709848078965\n"
          ]
        }
      ]
    },
    {
      "cell_type": "markdown",
      "source": [
        "¿De dónde ha salido esto? ¿Cómo saber dónde buscar? El lugar más fácil para ver lo que está disponible es buscando «Python standard library». Por ejemplo, allí encontrarás el módulo math. Si echas un vistazo, verás que hay mucho."
      ],
      "metadata": {
        "id": "VM7yYSyMmbhz"
      }
    },
    {
      "cell_type": "markdown",
      "source": [
        "# **Cómo repetir cosas**\n",
        "\n",
        "En algunos problemas, nos puede gustar o preferir que Python repita un procedimiento una y otra vez hasta que estemos contentos con el resultado. Por ejemplo, digamos que quiero imprimir los cuadrados de los números del 1 al 10."
      ],
      "metadata": {
        "id": "AtbmoLsAmeMM"
      }
    },
    {
      "cell_type": "code",
      "source": [
        "n = 1\n",
        "\n",
        "while n <= 10:\n",
        "    print(n*n)\n",
        "    n += 1 # Short hand for x = x + 1"
      ],
      "metadata": {
        "colab": {
          "base_uri": "https://localhost:8080/"
        },
        "id": "rbkw0FoumZGY",
        "outputId": "a8088e7c-720c-498f-85f2-0cf0169bdc50"
      },
      "execution_count": 18,
      "outputs": [
        {
          "output_type": "stream",
          "name": "stdout",
          "text": [
            "1\n",
            "4\n",
            "9\n",
            "16\n",
            "25\n",
            "36\n",
            "49\n",
            "64\n",
            "81\n",
            "100\n"
          ]
        }
      ]
    },
    {
      "cell_type": "markdown",
      "source": [
        "Del mismo modo, puedo intentar sumar los 100 primeros números enteros."
      ],
      "metadata": {
        "id": "41JUv3a6mnnY"
      }
    },
    {
      "cell_type": "code",
      "source": [
        "n = 1\n",
        "total = 0\n",
        "\n",
        "while n <= 100:\n",
        "    total += n\n",
        "    n += 1\n",
        "\n",
        "print(total)"
      ],
      "metadata": {
        "colab": {
          "base_uri": "https://localhost:8080/"
        },
        "id": "Tirr69fsmk4G",
        "outputId": "00ca745b-2ada-4bf6-f813-b5dfb31fa1ce"
      },
      "execution_count": 19,
      "outputs": [
        {
          "output_type": "stream",
          "name": "stdout",
          "text": [
            "5050\n"
          ]
        }
      ]
    },
    {
      "cell_type": "markdown",
      "source": [
        "Otra forma muy útil y más general de hacer este tipo de cosas es mediante el uso de iteradores. Uno de los iteradores más simples abstrae el proceso de recorrer un rango de números.\n",
        "\n",
        "Podemos reescribir los cálculos anteriores utilizando iteradores de la siguiente manera:"
      ],
      "metadata": {
        "id": "EvIN6PW9mu_K"
      }
    },
    {
      "cell_type": "code",
      "source": [
        "for n in range(1, 11): # [1, 11) <---\n",
        "  print(n*n)"
      ],
      "metadata": {
        "colab": {
          "base_uri": "https://localhost:8080/"
        },
        "id": "gXkfR0Dhmq0m",
        "outputId": "aab3e108-05d3-4738-9c80-2e55f56a4c50"
      },
      "execution_count": 20,
      "outputs": [
        {
          "output_type": "stream",
          "name": "stdout",
          "text": [
            "1\n",
            "4\n",
            "9\n",
            "16\n",
            "25\n",
            "36\n",
            "49\n",
            "64\n",
            "81\n",
            "100\n"
          ]
        }
      ]
    },
    {
      "cell_type": "code",
      "source": [
        "total = 0\n",
        "\n",
        "for n in range(1, 101):\n",
        "    total += n\n",
        "\n",
        "print(total)"
      ],
      "metadata": {
        "colab": {
          "base_uri": "https://localhost:8080/"
        },
        "id": "2T9r0P8umyRO",
        "outputId": "8e66e870-4e5f-4d74-8616-1d3e57d90d8d"
      },
      "execution_count": 21,
      "outputs": [
        {
          "output_type": "stream",
          "name": "stdout",
          "text": [
            "5050\n"
          ]
        }
      ]
    },
    {
      "cell_type": "markdown",
      "source": [
        "\n",
        "De vez en cuando, quieres un poco más de control sobre cuándo salir de un bucle. En Python puedes usar la sentencia break para hacerlo."
      ],
      "metadata": {
        "id": "vWasdrzPm2Uq"
      }
    },
    {
      "cell_type": "code",
      "source": [
        "n = 0\n",
        "\n",
        "print('start!')\n",
        "\n",
        "while True:\n",
        "    print('before!')\n",
        "    if n == 3:\n",
        "        break\n",
        "    print('after!')\n",
        "    n += 1\n",
        "\n",
        "print('done!')"
      ],
      "metadata": {
        "colab": {
          "base_uri": "https://localhost:8080/"
        },
        "id": "-NhqEzzHmz_H",
        "outputId": "b6bebacb-ba39-430d-d51d-b4b581f605fb"
      },
      "execution_count": 22,
      "outputs": [
        {
          "output_type": "stream",
          "name": "stdout",
          "text": [
            "start!\n",
            "before!\n",
            "after!\n",
            "before!\n",
            "after!\n",
            "before!\n",
            "after!\n",
            "before!\n",
            "done!\n"
          ]
        }
      ]
    },
    {
      "cell_type": "markdown",
      "source": [
        "# **Ejercicio 3**\n",
        "\n",
        "\n",
        "\n",
        "1.   Escribe una función que sume los cuadrados de los primeros n enteros impares.\n",
        "2.   Escribe una función que imprima los números naturales menores que n que sean divisibles por 3, divisibles por 5 pero no divisibles por 10.\n",
        "3.   Escribe un programa que imprima un «tablero de ajedrez» de 16 x 16 que indique un cuadrado negro con una 'B' y un cuadrado blanco con una 'W'.\n",
        "4.   Imprime los diez primeros números de Fibonacci.\n",
        "5.   Intenta reimplementar la función factorial utilizando un bucle while o un iterador. ¿Cuál te parece mejor? ¿Cuál te parece más fácil de entender?"
      ],
      "metadata": {
        "id": "AKPh9jxdm7II"
      }
    },
    {
      "cell_type": "code",
      "source": [
        "# Escribe tu código aquí\n"
      ],
      "metadata": {
        "id": "UBzwOm4Xm4OW"
      },
      "execution_count": null,
      "outputs": []
    },
    {
      "cell_type": "markdown",
      "source": [
        "#**Pruebas rudimentarias**\n",
        "\n",
        "A medida que desarrolles pequeños trozos de código, querrás comprobar si son correctos. Para código muy simple esto no suele ser un problema. Pero, incluso en esos casos, puede haber peligro de «errores puntuales» o de no predecir un error de tipo extraño. En esos casos, puede ser útil escribir algo de código para probar las funciones que estás escribiendo. Una de las formas más sencillas de hacerlo es utilizando el comando assert."
      ],
      "metadata": {
        "id": "HI_KyseWnOP1"
      }
    },
    {
      "cell_type": "code",
      "source": [
        "def sum_first_n(n):\n",
        "    k = 0\n",
        "    s = 0\n",
        "    while k <= n:\n",
        "        s += k\n",
        "        k += 1\n",
        "    return s"
      ],
      "metadata": {
        "id": "QOVnRbLonU2X"
      },
      "execution_count": 23,
      "outputs": []
    },
    {
      "cell_type": "code",
      "source": [
        "def test_it():\n",
        "    assert sum_first_n(0) == 0\n",
        "    assert sum_first_n(1) == 1\n",
        "    assert sum_first_n(2) == 3\n",
        "\n",
        "test_it()"
      ],
      "metadata": {
        "id": "SrZausPUnW_J"
      },
      "execution_count": 25,
      "outputs": []
    },
    {
      "cell_type": "markdown",
      "source": [
        "Una vez más, esto es sólo un método rudimentario de prueba de código. Hay toda una industria dedicada a varios métodos de prueba, ¡todo lo cual está más allá del alcance de este taller! Aún así, es bueno ser consciente de estas cosas."
      ],
      "metadata": {
        "id": "KtPtYP-znf7N"
      }
    },
    {
      "cell_type": "markdown",
      "source": [
        "#**Observaciones adicionales**\n",
        "\n",
        "**Documentación y comentarios**\n",
        "\n",
        "Una pregunta que surgió fue cómo documentar o comentar el código. Esto puede hacerse utilizando el símbolo #:"
      ],
      "metadata": {
        "id": "wCgyZJlln3Di"
      }
    },
    {
      "cell_type": "code",
      "source": [
        "# assigning my variables\n",
        "x = 4\n",
        "y = 6\n",
        "\n",
        "# checking which is smaller\n",
        "x < y"
      ],
      "metadata": {
        "colab": {
          "base_uri": "https://localhost:8080/"
        },
        "id": "xtTwzvSvnYLF",
        "outputId": "81f9d751-2d98-4bf0-c2d8-58eeec0129e0"
      },
      "execution_count": 26,
      "outputs": [
        {
          "output_type": "execute_result",
          "data": {
            "text/plain": [
              "True"
            ]
          },
          "metadata": {},
          "execution_count": 26
        }
      ]
    },
    {
      "cell_type": "markdown",
      "source": [
        "Esto puede ser útil, pero ten cuidado de no pasarte con los comentarios. Si eliges buenos nombres para las variables y divides el código en procedimientos claros, a menudo no es necesario añadir muchos comentarios."
      ],
      "metadata": {
        "id": "xJrnE_own-iJ"
      }
    },
    {
      "cell_type": "markdown",
      "source": [
        "**Diferentes formas de imprimir**\n",
        "\n",
        "Otra pregunta que surgió en relación con el problema del tablero de ajedrez fue cómo imprimir sin crear una nueva línea y cómo imprimir una línea en blanco. Esto se puede hacer de la siguiente manera:"
      ],
      "metadata": {
        "id": "6Q8ZHWnBoAoc"
      }
    },
    {
      "cell_type": "code",
      "source": [
        "# these don't print newlines!\n",
        "print('W',end=\"\")\n",
        "print('B')\n",
        "\n",
        "# a new print will generate a line break\n",
        "print('Z')"
      ],
      "metadata": {
        "colab": {
          "base_uri": "https://localhost:8080/"
        },
        "id": "PBEdH9j3n79j",
        "outputId": "93935b67-46e1-49db-8e62-a3d67a344e17"
      },
      "execution_count": 34,
      "outputs": [
        {
          "output_type": "stream",
          "name": "stdout",
          "text": [
            "WB\n",
            "Z\n"
          ]
        }
      ]
    },
    {
      "cell_type": "markdown",
      "source": [
        "**Multi-Assignment**\n",
        "\n",
        "Una última característica sintáctica interesante es la multiasignación:"
      ],
      "metadata": {
        "id": "Eax_JM62oYlE"
      }
    },
    {
      "cell_type": "code",
      "source": [
        "a, b = 1, 1\n",
        "\n",
        "for n in range(10):\n",
        "    a, b = b, a+b  # multi-assignment"
      ],
      "metadata": {
        "id": "EbtKhjB6oE3F"
      },
      "execution_count": 30,
      "outputs": []
    },
    {
      "cell_type": "markdown",
      "source": [
        "Esto nos permite aprovechar Python para evitar un patrón alternativo común de introducir una variable temporal:"
      ],
      "metadata": {
        "id": "CqH8oKjuog-t"
      }
    },
    {
      "cell_type": "code",
      "source": [
        "a, b = 1, 1\n",
        "\n",
        "for n in range(10):\n",
        "    t = a+b\n",
        "    a = b\n",
        "    b = t"
      ],
      "metadata": {
        "id": "EeEaWoEXoemM"
      },
      "execution_count": 31,
      "outputs": []
    }
  ]
}