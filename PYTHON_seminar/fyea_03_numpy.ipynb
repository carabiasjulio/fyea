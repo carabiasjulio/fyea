{
  "nbformat": 4,
  "nbformat_minor": 0,
  "metadata": {
    "colab": {
      "provenance": [],
      "authorship_tag": "ABX9TyOlPlHL1GoF7CRFwNUqW8wq",
      "include_colab_link": true
    },
    "kernelspec": {
      "name": "python3",
      "display_name": "Python 3"
    },
    "language_info": {
      "name": "python"
    }
  },
  "cells": [
    {
      "cell_type": "markdown",
      "metadata": {
        "id": "view-in-github",
        "colab_type": "text"
      },
      "source": [
        "<a href=\"https://colab.research.google.com/github/carabiasjulio/fyea/blob/main/fyea_03_numpy.ipynb\" target=\"_parent\"><img src=\"https://colab.research.google.com/assets/colab-badge.svg\" alt=\"Open In Colab\"/></a>"
      ]
    },
    {
      "cell_type": "markdown",
      "source": [
        "# **Datos numéricos con matrices Numpy**\n",
        "\n",
        "Ahora vamos a introducir un par de herramientas de Scipy y Matplotlib para el procesamiento básico de datos y visualización.\n",
        "\n",
        "En este caso, teníamos un conjunto de datos muy pequeño y simple -aproximadamente 100 números diferentes- por lo que el rendimiento no era un problema. Sin embargo, a medida que los conjuntos de datos crecen, la sobrecarga de usar Python en comparación con un lenguaje compilado como C ++ comienza a mostrar.\n",
        "\n",
        "Por ejemplo, si quisiéramos procesar una imagen de fondo de escritorio (de 1280 x 1024 píxeles), acceder a cada píxel supondría bastantes pasos. Si quisiéramos hacer algo como aplicar un desenfoque gaussiano a una pequeña zona de cada píxel mediante una convolución, ¡habríamos incrementado el número de pasos en un orden de magnitud!\n",
        "\n",
        "Otro ejemplo: si intentamos escalonar en el tiempo una EDP hiperbólica, como una ecuación de advección, utilizando un método de diferencias finitas con una malla fina, tendremos que realizar un número potencialmente elevado de operaciones por paso, por lo que nos gustaría hacerlo lo más rápido posible para obtener algún tipo de evolución a largo plazo.\n",
        "\n",
        "Para superar esto, vamos a introducir matrices Numpy como una manera de acercarse a un rendimiento de nivel compilado sin dejar de traer capaz de utilizar una descripción de alto nivel.\n",
        "\n",
        "Empezaremos por familiarizarnos con la construcción, manipulación y operaciones básicas de los arrays.\n",
        "\n",
        "\n",
        "# **Construcción básica de arrays**\n",
        "\n",
        "Empecemos con un ejemplo simple y definamos un par de arrays Numpy. Esto va a parecer similar a las listas al principio."
      ],
      "metadata": {
        "id": "988EGu9bp-eN"
      }
    },
    {
      "cell_type": "code",
      "execution_count": 1,
      "metadata": {
        "colab": {
          "base_uri": "https://localhost:8080/"
        },
        "id": "CLqARxN9p9sX",
        "outputId": "b1a93821-ef12-401a-89a0-ec2bf019ef80"
      },
      "outputs": [
        {
          "output_type": "stream",
          "name": "stdout",
          "text": [
            "[1. 2. 3. 4.]\n",
            "[2. 5. 1. 3.]\n"
          ]
        }
      ],
      "source": [
        "import numpy as np\n",
        "\n",
        "A = np.array([1., 2., 3., 4.])\n",
        "B = np.array([2., 5., 1., 3.])\n",
        "\n",
        "print(A)\n",
        "print(B)"
      ]
    },
    {
      "cell_type": "markdown",
      "source": [
        "Si quiero ir más allá, ¡incluso puedo definir matrices multidimensionales! Por ejemplo, vamos a definir una matriz 2d:"
      ],
      "metadata": {
        "id": "kOphhZVoqT0Z"
      }
    },
    {
      "cell_type": "code",
      "source": [
        "A = np.array([\n",
        "    [1., 2., 3.],\n",
        "    [4., 5., 6.],\n",
        "])\n",
        "\n",
        "print(A)"
      ],
      "metadata": {
        "colab": {
          "base_uri": "https://localhost:8080/"
        },
        "id": "E9r8XQ4MqTNd",
        "outputId": "d074bddb-9a25-4360-fa05-9fd7dd59f9a2"
      },
      "execution_count": 2,
      "outputs": [
        {
          "output_type": "stream",
          "name": "stdout",
          "text": [
            "[[1. 2. 3.]\n",
            " [4. 5. 6.]]\n"
          ]
        }
      ]
    },
    {
      "cell_type": "markdown",
      "source": [
        "La forma en que Numpy se refiere a estas dimensiones es a través del atributo shape. Si queremos comprobar las dimensiones de un array, simplemente usamos:"
      ],
      "metadata": {
        "id": "egRgh-njqeqY"
      }
    },
    {
      "cell_type": "code",
      "source": [
        "A.shape"
      ],
      "metadata": {
        "colab": {
          "base_uri": "https://localhost:8080/"
        },
        "id": "kShBKxEjqRrv",
        "outputId": "e163981c-a283-45bb-ad91-a1ad3b2aea18"
      },
      "execution_count": 3,
      "outputs": [
        {
          "output_type": "execute_result",
          "data": {
            "text/plain": [
              "(2, 3)"
            ]
          },
          "metadata": {},
          "execution_count": 3
        }
      ]
    },
    {
      "cell_type": "markdown",
      "source": [
        "Como puedes imaginar, sería tedioso diseñar matrices a mano de esta forma. Por suerte, existen varios métodos convenientes para construir matrices de uso común. Empecemos con el análogo de la conocida función range."
      ],
      "metadata": {
        "id": "zQBlKE1kqitl"
      }
    },
    {
      "cell_type": "code",
      "source": [
        "n = np.arange(1, 10)\n",
        "n"
      ],
      "metadata": {
        "colab": {
          "base_uri": "https://localhost:8080/"
        },
        "id": "AmByy7G1qgUT",
        "outputId": "1437835b-21f5-40ba-cc1c-4509d1264432"
      },
      "execution_count": 4,
      "outputs": [
        {
          "output_type": "execute_result",
          "data": {
            "text/plain": [
              "array([1, 2, 3, 4, 5, 6, 7, 8, 9])"
            ]
          },
          "metadata": {},
          "execution_count": 4
        }
      ]
    },
    {
      "cell_type": "code",
      "source": [
        "n = np.arange(1, 10, 2)\n",
        "n"
      ],
      "metadata": {
        "colab": {
          "base_uri": "https://localhost:8080/"
        },
        "id": "db1ugiqWqlXZ",
        "outputId": "40897869-3056-4300-8e80-5e3537ff9ead"
      },
      "execution_count": 5,
      "outputs": [
        {
          "output_type": "execute_result",
          "data": {
            "text/plain": [
              "array([1, 3, 5, 7, 9])"
            ]
          },
          "metadata": {},
          "execution_count": 5
        }
      ]
    },
    {
      "cell_type": "markdown",
      "source": [
        "Otra variación muy común de esto es hacer una subdivisión uniforme de un intervalo:"
      ],
      "metadata": {
        "id": "TIHZkTJiqqRA"
      }
    },
    {
      "cell_type": "code",
      "source": [
        "x = np.linspace(0, 1, 10)\n",
        "x"
      ],
      "metadata": {
        "colab": {
          "base_uri": "https://localhost:8080/"
        },
        "id": "PbqZHUzqqnPi",
        "outputId": "a0299ea3-cec9-4c27-893e-7e3c96a9a2b4"
      },
      "execution_count": 6,
      "outputs": [
        {
          "output_type": "execute_result",
          "data": {
            "text/plain": [
              "array([0.        , 0.11111111, 0.22222222, 0.33333333, 0.44444444,\n",
              "       0.55555556, 0.66666667, 0.77777778, 0.88888889, 1.        ])"
            ]
          },
          "metadata": {},
          "execution_count": 6
        }
      ]
    },
    {
      "cell_type": "markdown",
      "source": [
        "Se utiliza con frecuencia para calcular un conjunto de valores a lo largo de un intervalo. Por ejemplo:"
      ],
      "metadata": {
        "id": "43JqvTEkqvDW"
      }
    },
    {
      "cell_type": "code",
      "source": [
        "x = np.linspace(-1, 1)\n",
        "y = x**3 - x/2.0"
      ],
      "metadata": {
        "id": "VCXy8mTCqsC2"
      },
      "execution_count": 7,
      "outputs": []
    },
    {
      "cell_type": "markdown",
      "source": [
        "Para ayudar a ver lo que está pasando, vamos a verificar que esto se ve bien trazándolo:"
      ],
      "metadata": {
        "id": "0SoY_Ncwqyq7"
      }
    },
    {
      "cell_type": "code",
      "source": [
        "import matplotlib.pyplot as plt\n",
        "\n",
        "plt.figure()\n",
        "plt.plot(x, y)\n",
        "plt.show()"
      ],
      "metadata": {
        "colab": {
          "base_uri": "https://localhost:8080/",
          "height": 430
        },
        "id": "rkcYOfYwqwpJ",
        "outputId": "e2a3cbfd-943c-4957-ca52-d0d1001eb02e"
      },
      "execution_count": 9,
      "outputs": [
        {
          "output_type": "display_data",
          "data": {
            "text/plain": [
              "<Figure size 640x480 with 1 Axes>"
            ],
            "image/png": "[encoded data removed]"
          },
          "metadata": {}
        }
      ]
    },
    {
      "cell_type": "markdown",
      "source": [
        "#**Indexación y segmentación**\n",
        "\n",
        "Al igual que vimos con las listas de Python, podemos acceder a los elementos de los arrays y segmentarlos. Esta vez, tenemos más libertad ya que los arrays pueden ser multidimensionales. Como ejemplo inicial, intentemos rellenar algunas regiones diferentes de un array cero."
      ],
      "metadata": {
        "id": "0VFRaL2Mq5to"
      }
    },
    {
      "cell_type": "code",
      "source": [
        "Z = np.zeros((10, 10))\n",
        "Z[2, 1] = 1.0\n",
        "Z"
      ],
      "metadata": {
        "colab": {
          "base_uri": "https://localhost:8080/"
        },
        "id": "zmmUoJfgq0P9",
        "outputId": "45a0c6e4-f7c3-424d-f9a5-257f36d99535"
      },
      "execution_count": 11,
      "outputs": [
        {
          "output_type": "execute_result",
          "data": {
            "text/plain": [
              "array([[0., 0., 0., 0., 0., 0., 0., 0., 0., 0.],\n",
              "       [0., 0., 0., 0., 0., 0., 0., 0., 0., 0.],\n",
              "       [0., 1., 0., 0., 0., 0., 0., 0., 0., 0.],\n",
              "       [0., 0., 0., 0., 0., 0., 0., 0., 0., 0.],\n",
              "       [0., 0., 0., 0., 0., 0., 0., 0., 0., 0.],\n",
              "       [0., 0., 0., 0., 0., 0., 0., 0., 0., 0.],\n",
              "       [0., 0., 0., 0., 0., 0., 0., 0., 0., 0.],\n",
              "       [0., 0., 0., 0., 0., 0., 0., 0., 0., 0.],\n",
              "       [0., 0., 0., 0., 0., 0., 0., 0., 0., 0.],\n",
              "       [0., 0., 0., 0., 0., 0., 0., 0., 0., 0.]])"
            ]
          },
          "metadata": {},
          "execution_count": 11
        }
      ]
    },
    {
      "cell_type": "code",
      "source": [
        "Z = np.zeros((10, 10))\n",
        "Z[3, :] = 1.0\n",
        "Z"
      ],
      "metadata": {
        "colab": {
          "base_uri": "https://localhost:8080/"
        },
        "id": "aF8o1kwmq9hn",
        "outputId": "574f286b-aaaf-40d6-fa71-ce037791f3a2"
      },
      "execution_count": 12,
      "outputs": [
        {
          "output_type": "execute_result",
          "data": {
            "text/plain": [
              "array([[0., 0., 0., 0., 0., 0., 0., 0., 0., 0.],\n",
              "       [0., 0., 0., 0., 0., 0., 0., 0., 0., 0.],\n",
              "       [0., 0., 0., 0., 0., 0., 0., 0., 0., 0.],\n",
              "       [1., 1., 1., 1., 1., 1., 1., 1., 1., 1.],\n",
              "       [0., 0., 0., 0., 0., 0., 0., 0., 0., 0.],\n",
              "       [0., 0., 0., 0., 0., 0., 0., 0., 0., 0.],\n",
              "       [0., 0., 0., 0., 0., 0., 0., 0., 0., 0.],\n",
              "       [0., 0., 0., 0., 0., 0., 0., 0., 0., 0.],\n",
              "       [0., 0., 0., 0., 0., 0., 0., 0., 0., 0.],\n",
              "       [0., 0., 0., 0., 0., 0., 0., 0., 0., 0.]])"
            ]
          },
          "metadata": {},
          "execution_count": 12
        }
      ]
    },
    {
      "cell_type": "code",
      "source": [
        "Z = np.zeros((10, 10))\n",
        "Z[:, 3] = 1.0\n",
        "Z"
      ],
      "metadata": {
        "colab": {
          "base_uri": "https://localhost:8080/"
        },
        "id": "Yn2w0PJHq_hj",
        "outputId": "a77366bd-2dc1-4acc-c88b-8f2fe6f00bef"
      },
      "execution_count": 13,
      "outputs": [
        {
          "output_type": "execute_result",
          "data": {
            "text/plain": [
              "array([[0., 0., 0., 1., 0., 0., 0., 0., 0., 0.],\n",
              "       [0., 0., 0., 1., 0., 0., 0., 0., 0., 0.],\n",
              "       [0., 0., 0., 1., 0., 0., 0., 0., 0., 0.],\n",
              "       [0., 0., 0., 1., 0., 0., 0., 0., 0., 0.],\n",
              "       [0., 0., 0., 1., 0., 0., 0., 0., 0., 0.],\n",
              "       [0., 0., 0., 1., 0., 0., 0., 0., 0., 0.],\n",
              "       [0., 0., 0., 1., 0., 0., 0., 0., 0., 0.],\n",
              "       [0., 0., 0., 1., 0., 0., 0., 0., 0., 0.],\n",
              "       [0., 0., 0., 1., 0., 0., 0., 0., 0., 0.],\n",
              "       [0., 0., 0., 1., 0., 0., 0., 0., 0., 0.]])"
            ]
          },
          "metadata": {},
          "execution_count": 13
        }
      ]
    },
    {
      "cell_type": "code",
      "source": [
        "Z = np.zeros((10, 10))\n",
        "Z[4, :] += 1.0\n",
        "Z[:, 3] += 1.0\n",
        "Z"
      ],
      "metadata": {
        "colab": {
          "base_uri": "https://localhost:8080/"
        },
        "id": "3BeVptJtrBGo",
        "outputId": "0688ec5c-da5b-44b2-9495-76461ce596bd"
      },
      "execution_count": 14,
      "outputs": [
        {
          "output_type": "execute_result",
          "data": {
            "text/plain": [
              "array([[0., 0., 0., 1., 0., 0., 0., 0., 0., 0.],\n",
              "       [0., 0., 0., 1., 0., 0., 0., 0., 0., 0.],\n",
              "       [0., 0., 0., 1., 0., 0., 0., 0., 0., 0.],\n",
              "       [0., 0., 0., 1., 0., 0., 0., 0., 0., 0.],\n",
              "       [1., 1., 1., 2., 1., 1., 1., 1., 1., 1.],\n",
              "       [0., 0., 0., 1., 0., 0., 0., 0., 0., 0.],\n",
              "       [0., 0., 0., 1., 0., 0., 0., 0., 0., 0.],\n",
              "       [0., 0., 0., 1., 0., 0., 0., 0., 0., 0.],\n",
              "       [0., 0., 0., 1., 0., 0., 0., 0., 0., 0.],\n",
              "       [0., 0., 0., 1., 0., 0., 0., 0., 0., 0.]])"
            ]
          },
          "metadata": {},
          "execution_count": 14
        }
      ]
    },
    {
      "cell_type": "markdown",
      "source": [
        "Al igual que con las listas, también puedo tomar una porción de una matriz. Esta vez las porciones se pueden combinar por dimensión."
      ],
      "metadata": {
        "id": "izdCY38yrFOE"
      }
    },
    {
      "cell_type": "code",
      "source": [
        "Z = np.zeros((10, 10))\n",
        "Z[3:7, 5:8] = 1.0\n",
        "Z"
      ],
      "metadata": {
        "colab": {
          "base_uri": "https://localhost:8080/"
        },
        "id": "smgIsmVerCoX",
        "outputId": "90d986a1-3bc7-46d2-9d1a-1fb069cc408a"
      },
      "execution_count": 15,
      "outputs": [
        {
          "output_type": "execute_result",
          "data": {
            "text/plain": [
              "array([[0., 0., 0., 0., 0., 0., 0., 0., 0., 0.],\n",
              "       [0., 0., 0., 0., 0., 0., 0., 0., 0., 0.],\n",
              "       [0., 0., 0., 0., 0., 0., 0., 0., 0., 0.],\n",
              "       [0., 0., 0., 0., 0., 1., 1., 1., 0., 0.],\n",
              "       [0., 0., 0., 0., 0., 1., 1., 1., 0., 0.],\n",
              "       [0., 0., 0., 0., 0., 1., 1., 1., 0., 0.],\n",
              "       [0., 0., 0., 0., 0., 1., 1., 1., 0., 0.],\n",
              "       [0., 0., 0., 0., 0., 0., 0., 0., 0., 0.],\n",
              "       [0., 0., 0., 0., 0., 0., 0., 0., 0., 0.],\n",
              "       [0., 0., 0., 0., 0., 0., 0., 0., 0., 0.]])"
            ]
          },
          "metadata": {},
          "execution_count": 15
        }
      ]
    },
    {
      "cell_type": "markdown",
      "source": [
        "Por último, la secuencia funciona igual que antes. Por ejemplo, si quiero una secuencia alterna de 1 y -1, puedo usar:"
      ],
      "metadata": {
        "id": "U_tvOGW1rKUZ"
      }
    },
    {
      "cell_type": "code",
      "source": [
        "x = np.empty(12)\n",
        "x[::2] = 1.0\n",
        "x[1::2] = -1.0\n",
        "x"
      ],
      "metadata": {
        "colab": {
          "base_uri": "https://localhost:8080/"
        },
        "id": "sEqobvcTrHLV",
        "outputId": "37fa7b03-9bde-4b2a-9b83-0d0e11e6dbfc"
      },
      "execution_count": 16,
      "outputs": [
        {
          "output_type": "execute_result",
          "data": {
            "text/plain": [
              "array([ 1., -1.,  1., -1.,  1., -1.,  1., -1.,  1., -1.,  1., -1.])"
            ]
          },
          "metadata": {},
          "execution_count": 16
        }
      ]
    },
    {
      "cell_type": "markdown",
      "source": [
        "**Ejercicio 1**\n",
        "\n",
        "\n",
        "\n",
        "1.   Crear una subdivisión uniforme del intervalo -1.3 a 2.5 con 64 subdivisiones.\n",
        "2.   Generar una matriz de longitud 3n rellena con el patrón cíclico 1, 2, 3. Nota: n es un entero dado por el usuario.\n",
        "3.   Crear una matriz de los 10 primeros enteros impares.\n",
        "4.   Crear una matriz de 10 x 10 ceros y luego «enmarcarla» con un borde de unos.\n",
        "5.   Crear una matriz de 8 x 8 con un patrón de tablero de ajedrez de ceros y unos utilizando un enfoque de rebanar + encadenar."
      ],
      "metadata": {
        "id": "3RskCdkvrMv8"
      }
    },
    {
      "cell_type": "code",
      "source": [
        "# Inserte su código aquí"
      ],
      "metadata": {
        "id": "kwj-uU8MrMQe"
      },
      "execution_count": null,
      "outputs": []
    },
    {
      "cell_type": "markdown",
      "source": [
        "#**Operaciones con matrices**\n",
        "\n",
        "Ya hemos insinuado algunas operaciones artiméticas básicas utilizando linspace. Resulta que éstas funcionan en general para matrices. También veremos que muchas funciones estándar también tienen versiones «vectorizadas» que funcionan con matrices."
      ],
      "metadata": {
        "id": "uagr7wROrzMR"
      }
    },
    {
      "cell_type": "code",
      "source": [
        "A = np.array([\n",
        "    [1., 2., 3.],\n",
        "    [4., 5., 6.],\n",
        "])\n",
        "\n",
        "B = np.array([\n",
        "    [1., 5., 2.],\n",
        "    [6., 4., 2.],\n",
        "])"
      ],
      "metadata": {
        "id": "io1kXRXGr2Al"
      },
      "execution_count": 17,
      "outputs": []
    },
    {
      "cell_type": "code",
      "source": [
        "A + B"
      ],
      "metadata": {
        "colab": {
          "base_uri": "https://localhost:8080/"
        },
        "id": "GCSq1r3Mr3pt",
        "outputId": "0d246bc1-8ff3-4079-c7df-155d1ec3312d"
      },
      "execution_count": 18,
      "outputs": [
        {
          "output_type": "execute_result",
          "data": {
            "text/plain": [
              "array([[ 2.,  7.,  5.],\n",
              "       [10.,  9.,  8.]])"
            ]
          },
          "metadata": {},
          "execution_count": 18
        }
      ]
    },
    {
      "cell_type": "code",
      "source": [
        "A - B"
      ],
      "metadata": {
        "colab": {
          "base_uri": "https://localhost:8080/"
        },
        "id": "kiMRQY8xr5Dt",
        "outputId": "d322c927-2ec3-4e74-b1d2-00442cd08dba"
      },
      "execution_count": 19,
      "outputs": [
        {
          "output_type": "execute_result",
          "data": {
            "text/plain": [
              "array([[ 0., -3.,  1.],\n",
              "       [-2.,  1.,  4.]])"
            ]
          },
          "metadata": {},
          "execution_count": 19
        }
      ]
    },
    {
      "cell_type": "code",
      "source": [
        "A * B"
      ],
      "metadata": {
        "colab": {
          "base_uri": "https://localhost:8080/"
        },
        "id": "0ah1-IYRr6QA",
        "outputId": "d9ea32f5-5f37-48cc-956a-8d1a98e77cca"
      },
      "execution_count": 20,
      "outputs": [
        {
          "output_type": "execute_result",
          "data": {
            "text/plain": [
              "array([[ 1., 10.,  6.],\n",
              "       [24., 20., 12.]])"
            ]
          },
          "metadata": {},
          "execution_count": 20
        }
      ]
    },
    {
      "cell_type": "markdown",
      "source": [
        "Observe que se trata de una multiplicación por entradas. ¿Quizá no es lo que esperabas? Para realizar una multiplicación de tipo matricial, utilizaremos la función punto. Esto funciona tanto para la multiplicación matriz-vector como matriz-matriz."
      ],
      "metadata": {
        "id": "GwmHkAwyr-v7"
      }
    },
    {
      "cell_type": "code",
      "source": [
        "A = np.array([\n",
        "    [1., 4., 2.],\n",
        "    [5., 2., 1.],\n",
        "    [6., 2., 1.],\n",
        "])\n",
        "\n",
        "x = np.array([1., 2., 3.])\n",
        "\n",
        "np.dot(A, x)"
      ],
      "metadata": {
        "colab": {
          "base_uri": "https://localhost:8080/"
        },
        "id": "xyIQBSiur8L8",
        "outputId": "20a1809b-2fe6-4a8f-8d90-c7a858069791"
      },
      "execution_count": 21,
      "outputs": [
        {
          "output_type": "execute_result",
          "data": {
            "text/plain": [
              "array([15., 12., 13.])"
            ]
          },
          "metadata": {},
          "execution_count": 21
        }
      ]
    },
    {
      "cell_type": "code",
      "source": [
        "B = np.array([\n",
        "    [1., 4., 1.],\n",
        "    [2., 1., 5.],\n",
        "    [3., 3., 9.],\n",
        "])\n",
        "\n",
        "np.dot(A, B)"
      ],
      "metadata": {
        "colab": {
          "base_uri": "https://localhost:8080/"
        },
        "id": "m_k3rpx4sApC",
        "outputId": "7852cccd-a653-431d-ef22-096773ae1868"
      },
      "execution_count": 22,
      "outputs": [
        {
          "output_type": "execute_result",
          "data": {
            "text/plain": [
              "array([[15., 14., 39.],\n",
              "       [12., 25., 24.],\n",
              "       [13., 29., 25.]])"
            ]
          },
          "metadata": {},
          "execution_count": 22
        }
      ]
    },
    {
      "cell_type": "markdown",
      "source": [
        "Resulta que las matrices también son un poco más «inteligentes» que esto, y soportan una característica llamada difusión que permite automáticamente que ciertas matrices de diferentes formas se «estiren» para ajustarse a otra forma.\n",
        "\n",
        "Para usos muy sofisticados, esto puede ser difícil de hacer bien, así que no vamos a entrar en ello en profundidad aquí. Sin embargo, es útil en casos sencillos que veremos aquí:"
      ],
      "metadata": {
        "id": "e-PMc68tsE57"
      }
    },
    {
      "cell_type": "code",
      "source": [
        "A + 3.0 # added to each entry"
      ],
      "metadata": {
        "colab": {
          "base_uri": "https://localhost:8080/"
        },
        "id": "HYpzYoOzsDTC",
        "outputId": "276e25f3-f1a1-4b71-c653-40704b813db2"
      },
      "execution_count": 23,
      "outputs": [
        {
          "output_type": "execute_result",
          "data": {
            "text/plain": [
              "array([[4., 7., 5.],\n",
              "       [8., 5., 4.],\n",
              "       [9., 5., 4.]])"
            ]
          },
          "metadata": {},
          "execution_count": 23
        }
      ]
    },
    {
      "cell_type": "code",
      "source": [
        "v = np.array([1., 4., 3.])\n",
        "A + v # added to each row"
      ],
      "metadata": {
        "colab": {
          "base_uri": "https://localhost:8080/"
        },
        "id": "hWklwwvWsI0M",
        "outputId": "43af2231-1468-46f1-e792-bf5676dbabe8"
      },
      "execution_count": 24,
      "outputs": [
        {
          "output_type": "execute_result",
          "data": {
            "text/plain": [
              "array([[2., 8., 5.],\n",
              "       [6., 6., 4.],\n",
              "       [7., 6., 4.]])"
            ]
          },
          "metadata": {},
          "execution_count": 24
        }
      ]
    },
    {
      "cell_type": "code",
      "source": [
        "v = np.array([1., 2., 3.])\n",
        "w = np.array([10., 20., 30.])\n",
        "v[:, np.newaxis] + w[np.newaxis, :] # all pairs sum"
      ],
      "metadata": {
        "colab": {
          "base_uri": "https://localhost:8080/"
        },
        "id": "l6g-nURlsKcO",
        "outputId": "e7aa8cd8-984c-4d6b-c5a9-e837173e4da5"
      },
      "execution_count": 25,
      "outputs": [
        {
          "output_type": "execute_result",
          "data": {
            "text/plain": [
              "array([[11., 21., 31.],\n",
              "       [12., 22., 32.],\n",
              "       [13., 23., 33.]])"
            ]
          },
          "metadata": {},
          "execution_count": 25
        }
      ]
    },
    {
      "cell_type": "markdown",
      "source": [
        "Como ya se ha mencionado, muchas funciones comunes están disponibles en forma «vectorizada»."
      ],
      "metadata": {
        "id": "Id3C9wnCsOnw"
      }
    },
    {
      "cell_type": "code",
      "source": [
        "x = np.linspace(-5, 5, 100)\n",
        "y = np.sin(2*np.pi*x) * x\n",
        "print(y)"
      ],
      "metadata": {
        "colab": {
          "base_uri": "https://localhost:8080/"
        },
        "id": "46th9s_5sL45",
        "outputId": "59e2f8cf-4364-472e-d9df-ee84abe8e6f5"
      },
      "execution_count": 26,
      "outputs": [
        {
          "output_type": "stream",
          "name": "stdout",
          "text": [
            "[-6.12323400e-15 -2.90464996e+00 -4.58160166e+00 -4.43864021e+00\n",
            " -2.60618422e+00  1.42615459e-01  2.71615312e+00  4.13770624e+00\n",
            "  3.91587234e+00  2.21171244e+00 -2.53055033e-01 -2.49972959e+00\n",
            " -3.68110443e+00 -3.40059917e+00 -1.84197448e+00  3.31255908e-01\n",
            "  2.25623854e+00  3.21324035e+00  2.89428362e+00  1.49787883e+00\n",
            " -3.77219937e-01 -1.98659109e+00 -2.73557709e+00 -2.39836717e+00\n",
            " -1.18028043e+00  3.91013556e-01  1.69174879e+00  2.24959419e+00\n",
            "  1.91426741e+00  8.89979363e-01 -3.72767603e-01 -1.37272188e+00\n",
            " -1.75678516e+00 -1.44337567e+00 -6.27719525e-01  3.22677043e-01\n",
            "  1.03056760e+00  1.25865502e+00  9.87054792e-01  3.94187453e-01\n",
            " -2.41000594e-01 -6.66388378e-01 -7.56717681e-01 -5.46636773e-01\n",
            " -1.90011191e-01  1.28060253e-01  2.81329944e-01  2.52493467e-01\n",
            "  1.23420599e-01  1.57592649e-02  1.57592649e-02  1.23420599e-01\n",
            "  2.52493467e-01  2.81329944e-01  1.28060253e-01 -1.90011191e-01\n",
            " -5.46636773e-01 -7.56717681e-01 -6.66388378e-01 -2.41000594e-01\n",
            "  3.94187453e-01  9.87054792e-01  1.25865502e+00  1.03056760e+00\n",
            "  3.22677043e-01 -6.27719525e-01 -1.44337567e+00 -1.75678516e+00\n",
            " -1.37272188e+00 -3.72767603e-01  8.89979363e-01  1.91426741e+00\n",
            "  2.24959419e+00  1.69174879e+00  3.91013556e-01 -1.18028043e+00\n",
            " -2.39836717e+00 -2.73557709e+00 -1.98659109e+00 -3.77219937e-01\n",
            "  1.49787883e+00  2.89428362e+00  3.21324035e+00  2.25623854e+00\n",
            "  3.31255908e-01 -1.84197448e+00 -3.40059917e+00 -3.68110443e+00\n",
            " -2.49972959e+00 -2.53055033e-01  2.21171244e+00  3.91587234e+00\n",
            "  4.13770624e+00  2.71615312e+00  1.42615459e-01 -2.60618422e+00\n",
            " -4.43864021e+00 -4.58160166e+00 -2.90464996e+00 -6.12323400e-15]\n"
          ]
        }
      ]
    },
    {
      "cell_type": "markdown",
      "source": [
        "*Puedes ver que esto calcula el seno en cada valor de x. Aunque podríamos hacer lo mismo utilizando una lista, este enfoque es mucho más rápido (y posiblemente más sencillo una vez que te acostumbras). Para comprobarlo, vamos a representar gráficamente la función:*"
      ],
      "metadata": {
        "id": "e4tXkpdnsUwj"
      }
    },
    {
      "cell_type": "code",
      "source": [
        "import matplotlib.pyplot as plt\n",
        "\n",
        "plt.figure()\n",
        "plt.plot(x, y)\n",
        "plt.show()"
      ],
      "metadata": {
        "colab": {
          "base_uri": "https://localhost:8080/",
          "height": 430
        },
        "id": "sNhnvW51sRA6",
        "outputId": "165f09f4-8f40-4390-ef7c-efda9038df21"
      },
      "execution_count": 27,
      "outputs": [
        {
          "output_type": "display_data",
          "data": {
            "text/plain": [
              "<Figure size 640x480 with 1 Axes>"
            ],
            "image/png": "[encoded data removed]"
          },
          "metadata": {}
        }
      ]
    },
    {
      "cell_type": "markdown",
      "source": [
        "#**Ejercicio 2**\n",
        "\n",
        "\n",
        "\n",
        "1.   Intenta utilizar la función $dot$ en un ejemplo vector-vector, matriz-vector y matriz-matriz. (Puede parecer sencillo, pero es bueno ver cómo difieren los resultados en cada caso).\n",
        "2.   Crea un gráfico de $x^2⋅sin(1/x^2)+x$ en el intervalo $[-1,1]$ utilizando $250$ puntos. Recuerda etiquetar los ejes.\n",
        "3. Crea un diagrama semilogarítmico de la diferencia relativa de $1/(1+x^2)$ y $1/x^2$ en el intervalo $[5,25]$. (La diferencia relativa de los números a y b viene dada por $|1-a/b|$. Esto proporciona un mejor sentido del error relativo al orden de magnitudes de a y b.)\n",
        "4. Se ha mencionado que muchas funciones comunes están disponibles en forma vectorizada. Resulta que Scipy también tiene muchas funciones especiales menos comunes. ¡Echa un vistazo a la extensa lista aquí! Intenta buscar algunas interesantes que reconozcas (¡o quizás no reconozcas!) e introduce algunos números o trazalos."
      ],
      "metadata": {
        "id": "xV-ROC3Msd7u"
      }
    },
    {
      "cell_type": "code",
      "source": [
        "# Inserta tu código aquí!"
      ],
      "metadata": {
        "id": "pq_JWyThsaJk"
      },
      "execution_count": 28,
      "outputs": []
    },
    {
      "cell_type": "markdown",
      "source": [
        "Trabajando con Arrays de Mayor Dimensión\n",
        "Esto es bueno, pero el poder de Numpy realmente comienza a mostrar en grandes conjuntos de datos. Vamos a dar un paso de 1d a 2d cálculos. Como ejemplo inicial, nos gustaría evaluar y trazar la función f(x,y)=x2-y2\n",
        "  en el dominio [-2,2]×[-2,2].\n",
        " .\n",
        "\n",
        "Para ello, necesitamos el análogo del linspace en dimensiones superiores. Lo formaremos utilizando una nueva función llamada meshgrid."
      ],
      "metadata": {
        "id": "vfgV8mEgtFro"
      }
    },
    {
      "cell_type": "code",
      "source": [
        "x, y = np.meshgrid(np.linspace(-2, 2, 100),\n",
        "                   np.linspace(-2, 2, 100))\n",
        "\n",
        "f = x**2 - y**2"
      ],
      "metadata": {
        "id": "9bejv0-etEV-"
      },
      "execution_count": 29,
      "outputs": []
    },
    {
      "cell_type": "markdown",
      "source": [
        "¿Cómo se traza esto? Introduciremos una nueva función de trazado llamada pcolormesh."
      ],
      "metadata": {
        "id": "MGg41Vh7uWVK"
      }
    },
    {
      "cell_type": "code",
      "source": [
        "plt.figure()\n",
        "plt.xlim(-2, 2)\n",
        "plt.ylim(-2, 2)\n",
        "plt.pcolormesh(x, y, f)\n",
        "plt.show()"
      ],
      "metadata": {
        "colab": {
          "base_uri": "https://localhost:8080/",
          "height": 435
        },
        "id": "xI7p8mrhuUEg",
        "outputId": "9084b4d5-808e-4c7f-ec1c-d8605d7dd010"
      },
      "execution_count": 30,
      "outputs": [
        {
          "output_type": "display_data",
          "data": {
            "text/plain": [
              "<Figure size 640x480 with 1 Axes>"
            ],
            "image/png": "[encoded data removed]"
          },
          "metadata": {}
        }
      ]
    },
    {
      "cell_type": "markdown",
      "source": [
        "Es un buen comienzo. Sin embargo, hay algo estéticamente insatisfactorio... no destaca bien un aspecto importante de la función... el conjunto cero. Vamos a ver cómo podemos hacer un cambio rápido para mejorar esto."
      ],
      "metadata": {
        "id": "G9ExjkYSuahx"
      }
    },
    {
      "cell_type": "code",
      "source": [
        "plt.figure()\n",
        "plt.xlim(-2, 2)\n",
        "plt.ylim(-2, 2)\n",
        "plt.pcolormesh(x, y, f, cmap='RdBu')\n",
        "plt.show()"
      ],
      "metadata": {
        "colab": {
          "base_uri": "https://localhost:8080/",
          "height": 435
        },
        "id": "6MECQevCuX99",
        "outputId": "9511b9df-c399-45dd-cbcb-da87218597fc"
      },
      "execution_count": 31,
      "outputs": [
        {
          "output_type": "display_data",
          "data": {
            "text/plain": [
              "<Figure size 640x480 with 1 Axes>"
            ],
            "image/png": "[encoded data removed]"
          },
          "metadata": {}
        }
      ]
    },
    {
      "cell_type": "markdown",
      "source": [
        "Por otro lado, Matplotlib admite varios mapas de colores diferentes. Algunos de ellos tienen propósitos particulares. Hay tres clases generales llamadas secuencial, divergente y cualitativa. En este caso, estoy usando el hecho de que los mapas de colores divergentes son buenos para resaltar un valor central distinto en un conjunto de datos. Si te interesa, puedes aprender más sobre esto [aquí](http://matplotlib.org/users/colormaps.html)."
      ],
      "metadata": {
        "id": "-n8qk47eufZE"
      }
    },
    {
      "cell_type": "markdown",
      "source": [
        "#**Ejercicio 3**\n",
        "\n",
        "\n",
        "\n",
        "1.   Crea un diagrama de colores de $sin(x)sin(y)$ en el intervalo $[-\\pi,\\pi]×[-\\pi,\\pi]$\n",
        "2.   Crea una función que cree una matriz $n×n$ con $(i,j)$ -casillas igual a $i+j$."
      ],
      "metadata": {
        "id": "-Luk2xy-uoQ7"
      }
    },
    {
      "cell_type": "code",
      "source": [
        "# Inserte su código aquí"
      ],
      "metadata": {
        "id": "MyRR_F2MucIc"
      },
      "execution_count": 32,
      "outputs": []
    },
    {
      "cell_type": "markdown",
      "source": [
        "#**Manipulación de matrices**\n",
        "\n",
        "Cuando se trabaja con matrices, no es raro tener que pasar algún tiempo para conseguir las cosas en el derecho «forma» o formato que desee. Numpy proporciona algunas funciones que ayudan con este tipo de cosas. Las dos primeras que veremos tienen que ver con la remodelación de un array."
      ],
      "metadata": {
        "id": "kbF_u9OPvRxx"
      }
    },
    {
      "cell_type": "code",
      "source": [
        "A = np.arange(1, 10)\n",
        "print(A)\n",
        "print(A.shape)"
      ],
      "metadata": {
        "colab": {
          "base_uri": "https://localhost:8080/"
        },
        "id": "Sqd_Cv72vRX9",
        "outputId": "34628613-5a9f-4d91-d5fc-b4939950033c"
      },
      "execution_count": 33,
      "outputs": [
        {
          "output_type": "stream",
          "name": "stdout",
          "text": [
            "[1 2 3 4 5 6 7 8 9]\n",
            "(9,)\n"
          ]
        }
      ]
    },
    {
      "cell_type": "code",
      "source": [
        "B = A.reshape(3, 3)\n",
        "print(B)\n",
        "print(B.shape)"
      ],
      "metadata": {
        "colab": {
          "base_uri": "https://localhost:8080/"
        },
        "id": "AHIefoPMvYI5",
        "outputId": "101c18ae-3419-4d42-b3b9-4720804f5c7f"
      },
      "execution_count": 34,
      "outputs": [
        {
          "output_type": "stream",
          "name": "stdout",
          "text": [
            "[[1 2 3]\n",
            " [4 5 6]\n",
            " [7 8 9]]\n",
            "(3, 3)\n"
          ]
        }
      ]
    },
    {
      "cell_type": "markdown",
      "source": [
        "Puedes ver que hemos tomado nuestro array de 9 elementos y lo hemos «envuelto» en un array de 3 por 3. Para deshacer esto, podemos utilizar \"reshape\" de nuevo, o podemos utilizar el más común \"ravel\":"
      ],
      "metadata": {
        "id": "l6IRo-kQvcGg"
      }
    },
    {
      "cell_type": "code",
      "source": [
        "print(np.ravel(B))\n",
        "print(B.ravel()) # equivalent but a little shorter."
      ],
      "metadata": {
        "colab": {
          "base_uri": "https://localhost:8080/"
        },
        "id": "1SnInyelvY8m",
        "outputId": "50d15783-0c71-4d8b-92a5-12763307cdbf"
      },
      "execution_count": 35,
      "outputs": [
        {
          "output_type": "stream",
          "name": "stdout",
          "text": [
            "[1 2 3 4 5 6 7 8 9]\n",
            "[1 2 3 4 5 6 7 8 9]\n"
          ]
        }
      ]
    },
    {
      "cell_type": "markdown",
      "source": [
        "También es habitual tener varias matrices diferentes que quieres fusionar o «apilar» de una forma u otra. Veamos cómo apilar matrices «verticalmente», «horizontalmente» y «por columnas»."
      ],
      "metadata": {
        "id": "ft4EHwPLvkWv"
      }
    },
    {
      "cell_type": "code",
      "source": [
        "A = np.array([1., 2., 3.])\n",
        "B = np.array([4., 1., 2.])"
      ],
      "metadata": {
        "id": "hakLTrwEvkLg"
      },
      "execution_count": 36,
      "outputs": []
    },
    {
      "cell_type": "code",
      "source": [
        "np.vstack([A, B])"
      ],
      "metadata": {
        "colab": {
          "base_uri": "https://localhost:8080/"
        },
        "id": "V9g9vfrrviEB",
        "outputId": "16e07de8-bb4b-43d2-f08b-f5a208b79950"
      },
      "execution_count": 38,
      "outputs": [
        {
          "output_type": "execute_result",
          "data": {
            "text/plain": [
              "array([[1., 2., 3.],\n",
              "       [4., 1., 2.]])"
            ]
          },
          "metadata": {},
          "execution_count": 38
        }
      ]
    },
    {
      "cell_type": "code",
      "source": [
        "np.hstack([A, B])"
      ],
      "metadata": {
        "colab": {
          "base_uri": "https://localhost:8080/"
        },
        "id": "5qtBDVm3voLJ",
        "outputId": "0647715f-4674-4afd-ead6-1e3035e0958d"
      },
      "execution_count": 39,
      "outputs": [
        {
          "output_type": "execute_result",
          "data": {
            "text/plain": [
              "array([1., 2., 3., 4., 1., 2.])"
            ]
          },
          "metadata": {},
          "execution_count": 39
        }
      ]
    },
    {
      "cell_type": "code",
      "source": [
        "np.column_stack([A, B])"
      ],
      "metadata": {
        "colab": {
          "base_uri": "https://localhost:8080/"
        },
        "id": "aeAMxXN7vpWB",
        "outputId": "32364e7c-fedd-4963-ff91-d66d060c6c39"
      },
      "execution_count": 41,
      "outputs": [
        {
          "output_type": "execute_result",
          "data": {
            "text/plain": [
              "array([[1., 4.],\n",
              "       [2., 1.],\n",
              "       [3., 2.]])"
            ]
          },
          "metadata": {},
          "execution_count": 41
        }
      ]
    },
    {
      "cell_type": "markdown",
      "source": [
        "#**Más operaciones con matrices**\n",
        "\n",
        "Aparte de las operaciones de tipo aritmético, Numpy también proporciona muchas otras cosas como encontrar el valor mínimo o máximo en un array, ordenar arrays, sumar todas las entradas de un array y mucho, mucho más. Echemos un vistazo a algunos de los conceptos básicos."
      ],
      "metadata": {
        "id": "P0FMPX-gvtQD"
      }
    },
    {
      "cell_type": "code",
      "source": [
        "A = np.random.randint(1, 10, 5)\n",
        "A"
      ],
      "metadata": {
        "colab": {
          "base_uri": "https://localhost:8080/"
        },
        "id": "wxY5mE64vqL_",
        "outputId": "0ac80191-a399-499d-e84f-39f9a59ef152"
      },
      "execution_count": 42,
      "outputs": [
        {
          "output_type": "execute_result",
          "data": {
            "text/plain": [
              "array([9, 5, 8, 1, 5])"
            ]
          },
          "metadata": {},
          "execution_count": 42
        }
      ]
    },
    {
      "cell_type": "code",
      "source": [
        "print(np.min(A))\n",
        "print(np.max(A))"
      ],
      "metadata": {
        "colab": {
          "base_uri": "https://localhost:8080/"
        },
        "id": "L2toLuhuvxo5",
        "outputId": "2b78bbe9-e56b-4d1f-dc21-f7836aa6dd92"
      },
      "execution_count": 43,
      "outputs": [
        {
          "output_type": "stream",
          "name": "stdout",
          "text": [
            "1\n",
            "9\n"
          ]
        }
      ]
    },
    {
      "cell_type": "code",
      "source": [
        "np.sort(A)"
      ],
      "metadata": {
        "colab": {
          "base_uri": "https://localhost:8080/"
        },
        "id": "xQUdJ2ASvy-1",
        "outputId": "67f2741b-b35c-4e88-e64e-c39cd8e309c8"
      },
      "execution_count": 44,
      "outputs": [
        {
          "output_type": "execute_result",
          "data": {
            "text/plain": [
              "array([1, 5, 5, 8, 9])"
            ]
          },
          "metadata": {},
          "execution_count": 44
        }
      ]
    },
    {
      "cell_type": "markdown",
      "source": [
        "Una variación interesante de éstos viene dada por la versión «argumento». En lugar de elegir el mínimo, el máximo o la ordenación, podemos calcular los índices que surgirían de ellos."
      ],
      "metadata": {
        "id": "NaCrJLNfv3To"
      }
    },
    {
      "cell_type": "code",
      "source": [
        "print(np.argmin(A))\n",
        "print(np.argmax(A))\n",
        "print(np.argsort(A))"
      ],
      "metadata": {
        "colab": {
          "base_uri": "https://localhost:8080/"
        },
        "id": "wqOcg6oHv0Y1",
        "outputId": "2559323f-ea7f-4f9d-e517-1f2891949d37"
      },
      "execution_count": 45,
      "outputs": [
        {
          "output_type": "stream",
          "name": "stdout",
          "text": [
            "3\n",
            "0\n",
            "[3 1 4 2 0]\n"
          ]
        }
      ]
    },
    {
      "cell_type": "markdown",
      "source": [
        "#**Ejercicio 4**\n",
        "\n",
        "1.   Evaluar $cos$ y $sin$ en el intervalo $[0,1]$ y luego apila los resultados en una matriz alta cuyas filas sean las entradas $(cos(x),sin(x))$ entradas.\n",
        "2.   Crea una matriz aleatoria de $3×5$ usando la función $np.random.rand(3, 5)$ y calcula: la suma de todas las entradas, la suma de las filas y la suma de las columnas. *(Al igual que sorted tenía un argumento opcional $key=$, muchas funciones Numpy tienen un argumento opcional $axis=$).*\n",
        "3. Crear una matriz aleatoria de $5×5$ utilizando la función $np.random.rand(5, 5)$. Queremos ordenar las filas según la segunda columna. Intenta combinar array $slicing + argsort + indexing$ para hacerlo."
      ],
      "metadata": {
        "id": "SOiIAsIVv6d7"
      }
    },
    {
      "cell_type": "code",
      "source": [
        "# Inserta tu código aquí"
      ],
      "metadata": {
        "id": "q8VkOpXYv55H"
      },
      "execution_count": 46,
      "outputs": []
    },
    {
      "cell_type": "markdown",
      "source": [
        "# **More Advanced Indexing**\n",
        "\n",
        "As a closing topic, let's take a second look at how we can index elements in an array. This time, we're going to use an array to index another."
      ],
      "metadata": {
        "id": "VKiT_wcWweTj"
      }
    },
    {
      "cell_type": "code",
      "source": [
        "A = np.arange(1, 10)**2\n",
        "A"
      ],
      "metadata": {
        "colab": {
          "base_uri": "https://localhost:8080/"
        },
        "id": "6DvRTfk9wdhY",
        "outputId": "cced0f23-ae11-4c61-b619-6af7d1db7f93"
      },
      "execution_count": 47,
      "outputs": [
        {
          "output_type": "execute_result",
          "data": {
            "text/plain": [
              "array([ 1,  4,  9, 16, 25, 36, 49, 64, 81])"
            ]
          },
          "metadata": {},
          "execution_count": 47
        }
      ]
    },
    {
      "cell_type": "code",
      "source": [
        "i = np.array([1, 5, 3, 2, 3, 1])\n",
        "A[i]"
      ],
      "metadata": {
        "colab": {
          "base_uri": "https://localhost:8080/"
        },
        "id": "TP6_HG7KwiSA",
        "outputId": "c66d598e-8ced-4a41-91a3-646f29c8c4c7"
      },
      "execution_count": 48,
      "outputs": [
        {
          "output_type": "execute_result",
          "data": {
            "text/plain": [
              "array([ 4, 36, 16,  9, 16,  4])"
            ]
          },
          "metadata": {},
          "execution_count": 48
        }
      ]
    },
    {
      "cell_type": "markdown",
      "source": [
        "También puedo hacerlo en múltiples dimensiones."
      ],
      "metadata": {
        "id": "c17cqMJ6wmpN"
      }
    },
    {
      "cell_type": "code",
      "source": [
        "A = np.zeros((5, 5))\n",
        "i = np.arange(5)\n",
        "A[i, i] = 1.0\n",
        "A"
      ],
      "metadata": {
        "colab": {
          "base_uri": "https://localhost:8080/"
        },
        "id": "62_KYWj5wj9a",
        "outputId": "26977509-0644-4850-8b3d-08629b7bb219"
      },
      "execution_count": 49,
      "outputs": [
        {
          "output_type": "execute_result",
          "data": {
            "text/plain": [
              "array([[1., 0., 0., 0., 0.],\n",
              "       [0., 1., 0., 0., 0.],\n",
              "       [0., 0., 1., 0., 0.],\n",
              "       [0., 0., 0., 1., 0.],\n",
              "       [0., 0., 0., 0., 1.]])"
            ]
          },
          "metadata": {},
          "execution_count": 49
        }
      ]
    },
    {
      "cell_type": "code",
      "source": [
        "A = np.arange(1, 10).reshape(3, 3)\n",
        "A"
      ],
      "metadata": {
        "colab": {
          "base_uri": "https://localhost:8080/"
        },
        "id": "OnjIc7bSwpLv",
        "outputId": "6ee3df04-6480-4f3a-fa93-dd4759c419a3"
      },
      "execution_count": 50,
      "outputs": [
        {
          "output_type": "execute_result",
          "data": {
            "text/plain": [
              "array([[1, 2, 3],\n",
              "       [4, 5, 6],\n",
              "       [7, 8, 9]])"
            ]
          },
          "metadata": {},
          "execution_count": 50
        }
      ]
    },
    {
      "cell_type": "markdown",
      "source": [
        "Por último, ¡incluso puedo indexar utilizando matrices multidimensionales!"
      ],
      "metadata": {
        "id": "m00Gk5iywr4I"
      }
    },
    {
      "cell_type": "code",
      "source": [
        "\n",
        "i = np.array([\n",
        "    [0, 0],\n",
        "    [1, 1],\n",
        "])\n",
        "\n",
        "j = np.array([\n",
        "    [0, 1],\n",
        "    [2, 0],\n",
        "])\n",
        "\n",
        "A[i, j]"
      ],
      "metadata": {
        "colab": {
          "base_uri": "https://localhost:8080/"
        },
        "id": "e01z7dVBwqpo",
        "outputId": "e2ac9cf3-7900-4a47-d2d1-d9a66afa8e90"
      },
      "execution_count": 51,
      "outputs": [
        {
          "output_type": "execute_result",
          "data": {
            "text/plain": [
              "array([[1, 2],\n",
              "       [6, 4]])"
            ]
          },
          "metadata": {},
          "execution_count": 51
        }
      ]
    },
    {
      "cell_type": "markdown",
      "source": [
        "Sin embargo, hay que tener cuidado para utilizarlo correctamente... Como esto es sólo una introducción, dejaremos esto como un vistazo a lo que está por venir."
      ],
      "metadata": {
        "id": "Jvbrhku4wwOH"
      }
    }
  ]
}